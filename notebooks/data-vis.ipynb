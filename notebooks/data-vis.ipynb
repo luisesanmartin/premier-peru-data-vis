{
 "cells": [
  {
   "cell_type": "code",
   "execution_count": 1,
   "metadata": {},
   "outputs": [],
   "source": [
    "import pandas as pd\n",
    "import altair as alt"
   ]
  },
  {
   "cell_type": "code",
   "execution_count": 2,
   "metadata": {},
   "outputs": [],
   "source": [
    "import sys\n",
    "sys.path.insert(0, '../scripts')\n",
    "import theme_desarroio"
   ]
  },
  {
   "cell_type": "code",
   "execution_count": 3,
   "metadata": {},
   "outputs": [],
   "source": [
    "file = '../data/dataframe.pkl'\n",
    "df = pd.read_pickle(file)"
   ]
  },
  {
   "cell_type": "code",
   "execution_count": 4,
   "metadata": {},
   "outputs": [],
   "source": [
    "df = df.iloc[:-1]"
   ]
  },
  {
   "cell_type": "code",
   "execution_count": 5,
   "metadata": {},
   "outputs": [
    {
     "data": {
      "text/html": [
       "<div>\n",
       "<style scoped>\n",
       "    .dataframe tbody tr th:only-of-type {\n",
       "        vertical-align: middle;\n",
       "    }\n",
       "\n",
       "    .dataframe tbody tr th {\n",
       "        vertical-align: top;\n",
       "    }\n",
       "\n",
       "    .dataframe thead th {\n",
       "        text-align: right;\n",
       "    }\n",
       "</style>\n",
       "<table border=\"1\" class=\"dataframe\">\n",
       "  <thead>\n",
       "    <tr style=\"text-align: right;\">\n",
       "      <th></th>\n",
       "      <th>Nombre</th>\n",
       "      <th>Sexo</th>\n",
       "      <th>Fecha de nacimiento</th>\n",
       "      <th>Departamento</th>\n",
       "      <th>Fecha de juramentacion</th>\n",
       "      <th>Edad al juramentar</th>\n",
       "      <th>Fecha final</th>\n",
       "      <th>Meses en el cargo</th>\n",
       "      <th>Nacida/o en Lima?</th>\n",
       "      <th>Presidente</th>\n",
       "      <th>Nombre2</th>\n",
       "    </tr>\n",
       "  </thead>\n",
       "  <tbody>\n",
       "    <tr>\n",
       "      <th>0</th>\n",
       "      <td>Guido Bellido</td>\n",
       "      <td>M</td>\n",
       "      <td>1979-08-07</td>\n",
       "      <td>Cusco</td>\n",
       "      <td>2021-07-27</td>\n",
       "      <td>41</td>\n",
       "      <td>2021-08-26</td>\n",
       "      <td>1.000000</td>\n",
       "      <td>Fuera de Lima</td>\n",
       "      <td>PC</td>\n",
       "      <td>Guido Bellido (PC)</td>\n",
       "    </tr>\n",
       "    <tr>\n",
       "      <th>1</th>\n",
       "      <td>Violeta Bermudez</td>\n",
       "      <td>F</td>\n",
       "      <td>1961-08-12</td>\n",
       "      <td>Lima</td>\n",
       "      <td>2020-11-18</td>\n",
       "      <td>59</td>\n",
       "      <td>2021-07-27</td>\n",
       "      <td>8.366667</td>\n",
       "      <td>En Lima</td>\n",
       "      <td>FS</td>\n",
       "      <td>Violeta Bermudez (FS)</td>\n",
       "    </tr>\n",
       "    <tr>\n",
       "      <th>2</th>\n",
       "      <td>Antero Flores-Araoz</td>\n",
       "      <td>M</td>\n",
       "      <td>1942-02-28</td>\n",
       "      <td>Lima</td>\n",
       "      <td>2020-11-11</td>\n",
       "      <td>78</td>\n",
       "      <td>2020-11-18</td>\n",
       "      <td>0.233333</td>\n",
       "      <td>En Lima</td>\n",
       "      <td>MM</td>\n",
       "      <td>Antero Flores-Araoz (MM)</td>\n",
       "    </tr>\n",
       "    <tr>\n",
       "      <th>3</th>\n",
       "      <td>Walter Martos</td>\n",
       "      <td>M</td>\n",
       "      <td>1957-02-11</td>\n",
       "      <td>Cajamarca</td>\n",
       "      <td>2020-08-06</td>\n",
       "      <td>63</td>\n",
       "      <td>2020-11-11</td>\n",
       "      <td>3.233333</td>\n",
       "      <td>Fuera de Lima</td>\n",
       "      <td>MV</td>\n",
       "      <td>Walter Martos (MV)</td>\n",
       "    </tr>\n",
       "    <tr>\n",
       "      <th>4</th>\n",
       "      <td>Pedro Cateriano</td>\n",
       "      <td>M</td>\n",
       "      <td>1958-06-26</td>\n",
       "      <td>Lima</td>\n",
       "      <td>2020-07-15</td>\n",
       "      <td>62</td>\n",
       "      <td>2020-08-06</td>\n",
       "      <td>0.733333</td>\n",
       "      <td>En Lima</td>\n",
       "      <td>MV</td>\n",
       "      <td>Pedro Cateriano (MV)</td>\n",
       "    </tr>\n",
       "    <tr>\n",
       "      <th>5</th>\n",
       "      <td>Vicente Zeballos</td>\n",
       "      <td>M</td>\n",
       "      <td>1963-05-10</td>\n",
       "      <td>Tacna</td>\n",
       "      <td>2019-09-30</td>\n",
       "      <td>56</td>\n",
       "      <td>2020-07-15</td>\n",
       "      <td>9.633333</td>\n",
       "      <td>Fuera de Lima</td>\n",
       "      <td>MV</td>\n",
       "      <td>Vicente Zeballos (MV)</td>\n",
       "    </tr>\n",
       "    <tr>\n",
       "      <th>6</th>\n",
       "      <td>Salvador del Solar</td>\n",
       "      <td>M</td>\n",
       "      <td>1970-05-01</td>\n",
       "      <td>Lima</td>\n",
       "      <td>2019-03-11</td>\n",
       "      <td>48</td>\n",
       "      <td>2019-09-30</td>\n",
       "      <td>6.766667</td>\n",
       "      <td>En Lima</td>\n",
       "      <td>MV</td>\n",
       "      <td>Salvador del Solar (MV)</td>\n",
       "    </tr>\n",
       "    <tr>\n",
       "      <th>7</th>\n",
       "      <td>Cesar Villanueva</td>\n",
       "      <td>M</td>\n",
       "      <td>1946-08-05</td>\n",
       "      <td>San Martin</td>\n",
       "      <td>2018-04-02</td>\n",
       "      <td>71</td>\n",
       "      <td>2019-03-11</td>\n",
       "      <td>11.433333</td>\n",
       "      <td>Fuera de Lima</td>\n",
       "      <td>MV</td>\n",
       "      <td>Cesar Villanueva (MV)</td>\n",
       "    </tr>\n",
       "    <tr>\n",
       "      <th>8</th>\n",
       "      <td>Mercedes Araoz</td>\n",
       "      <td>F</td>\n",
       "      <td>1961-08-05</td>\n",
       "      <td>Lima</td>\n",
       "      <td>2017-09-17</td>\n",
       "      <td>56</td>\n",
       "      <td>2018-04-02</td>\n",
       "      <td>6.566667</td>\n",
       "      <td>En Lima</td>\n",
       "      <td>PPK</td>\n",
       "      <td>Mercedes Araoz (PPK)</td>\n",
       "    </tr>\n",
       "    <tr>\n",
       "      <th>9</th>\n",
       "      <td>Fernando Zavala</td>\n",
       "      <td>M</td>\n",
       "      <td>1971-02-19</td>\n",
       "      <td>Tacna</td>\n",
       "      <td>2016-07-28</td>\n",
       "      <td>45</td>\n",
       "      <td>2017-09-17</td>\n",
       "      <td>13.866667</td>\n",
       "      <td>Fuera de Lima</td>\n",
       "      <td>PPK</td>\n",
       "      <td>Fernando Zavala (PPK)</td>\n",
       "    </tr>\n",
       "    <tr>\n",
       "      <th>10</th>\n",
       "      <td>Pedro Cateriano</td>\n",
       "      <td>M</td>\n",
       "      <td>1958-06-26</td>\n",
       "      <td>Lima</td>\n",
       "      <td>2015-04-02</td>\n",
       "      <td>56</td>\n",
       "      <td>2016-07-28</td>\n",
       "      <td>16.100000</td>\n",
       "      <td>En Lima</td>\n",
       "      <td>OH</td>\n",
       "      <td>Pedro Cateriano (OH)</td>\n",
       "    </tr>\n",
       "    <tr>\n",
       "      <th>11</th>\n",
       "      <td>Ana Jara</td>\n",
       "      <td>F</td>\n",
       "      <td>1968-05-11</td>\n",
       "      <td>Ica</td>\n",
       "      <td>2014-07-22</td>\n",
       "      <td>46</td>\n",
       "      <td>2015-04-02</td>\n",
       "      <td>8.466667</td>\n",
       "      <td>Fuera de Lima</td>\n",
       "      <td>OH</td>\n",
       "      <td>Ana Jara (OH)</td>\n",
       "    </tr>\n",
       "    <tr>\n",
       "      <th>12</th>\n",
       "      <td>Rene Cornejo</td>\n",
       "      <td>M</td>\n",
       "      <td>1962-01-06</td>\n",
       "      <td>Arequipa</td>\n",
       "      <td>2014-02-24</td>\n",
       "      <td>52</td>\n",
       "      <td>2014-07-22</td>\n",
       "      <td>4.933333</td>\n",
       "      <td>Fuera de Lima</td>\n",
       "      <td>OH</td>\n",
       "      <td>Rene Cornejo (OH)</td>\n",
       "    </tr>\n",
       "    <tr>\n",
       "      <th>13</th>\n",
       "      <td>Cesar Villanueva</td>\n",
       "      <td>M</td>\n",
       "      <td>1946-08-05</td>\n",
       "      <td>San Martin</td>\n",
       "      <td>2013-10-31</td>\n",
       "      <td>67</td>\n",
       "      <td>2014-02-24</td>\n",
       "      <td>3.866667</td>\n",
       "      <td>Fuera de Lima</td>\n",
       "      <td>OH</td>\n",
       "      <td>Cesar Villanueva (OH)</td>\n",
       "    </tr>\n",
       "    <tr>\n",
       "      <th>14</th>\n",
       "      <td>Juan Jimenez Mayor</td>\n",
       "      <td>M</td>\n",
       "      <td>1964-08-05</td>\n",
       "      <td>Lima</td>\n",
       "      <td>2012-07-23</td>\n",
       "      <td>47</td>\n",
       "      <td>2013-10-31</td>\n",
       "      <td>15.500000</td>\n",
       "      <td>En Lima</td>\n",
       "      <td>OH</td>\n",
       "      <td>Juan Jimenez Mayor (OH)</td>\n",
       "    </tr>\n",
       "    <tr>\n",
       "      <th>15</th>\n",
       "      <td>Oscar Valdes</td>\n",
       "      <td>M</td>\n",
       "      <td>1949-04-03</td>\n",
       "      <td>Tacna</td>\n",
       "      <td>2011-12-11</td>\n",
       "      <td>62</td>\n",
       "      <td>2012-07-23</td>\n",
       "      <td>7.500000</td>\n",
       "      <td>Fuera de Lima</td>\n",
       "      <td>OH</td>\n",
       "      <td>Oscar Valdes (OH)</td>\n",
       "    </tr>\n",
       "    <tr>\n",
       "      <th>16</th>\n",
       "      <td>Salomon Lerner Ghitis</td>\n",
       "      <td>M</td>\n",
       "      <td>1946-02-04</td>\n",
       "      <td>Lima</td>\n",
       "      <td>2011-07-28</td>\n",
       "      <td>65</td>\n",
       "      <td>2011-12-11</td>\n",
       "      <td>4.533333</td>\n",
       "      <td>En Lima</td>\n",
       "      <td>OH</td>\n",
       "      <td>Salomon Lerner Ghitis (OH)</td>\n",
       "    </tr>\n",
       "    <tr>\n",
       "      <th>17</th>\n",
       "      <td>Rosario Fernandez</td>\n",
       "      <td>F</td>\n",
       "      <td>1955-11-09</td>\n",
       "      <td>Lima</td>\n",
       "      <td>2011-03-19</td>\n",
       "      <td>55</td>\n",
       "      <td>2011-07-28</td>\n",
       "      <td>4.366667</td>\n",
       "      <td>En Lima</td>\n",
       "      <td>AG</td>\n",
       "      <td>Rosario Fernandez (AG)</td>\n",
       "    </tr>\n",
       "    <tr>\n",
       "      <th>18</th>\n",
       "      <td>Jose Antonio Chang</td>\n",
       "      <td>M</td>\n",
       "      <td>1958-05-19</td>\n",
       "      <td>Lima</td>\n",
       "      <td>2010-09-14</td>\n",
       "      <td>52</td>\n",
       "      <td>2011-03-19</td>\n",
       "      <td>6.200000</td>\n",
       "      <td>En Lima</td>\n",
       "      <td>AG</td>\n",
       "      <td>Jose Antonio Chang (AG)</td>\n",
       "    </tr>\n",
       "    <tr>\n",
       "      <th>19</th>\n",
       "      <td>Javier Velasquez Quesquen</td>\n",
       "      <td>M</td>\n",
       "      <td>1960-03-12</td>\n",
       "      <td>Lambayeque</td>\n",
       "      <td>2009-07-11</td>\n",
       "      <td>49</td>\n",
       "      <td>2010-09-14</td>\n",
       "      <td>14.333333</td>\n",
       "      <td>Fuera de Lima</td>\n",
       "      <td>AG</td>\n",
       "      <td>Javier Velasquez Quesquen (AG)</td>\n",
       "    </tr>\n",
       "    <tr>\n",
       "      <th>20</th>\n",
       "      <td>Yehude Simon</td>\n",
       "      <td>M</td>\n",
       "      <td>1947-07-18</td>\n",
       "      <td>Lima</td>\n",
       "      <td>2008-10-14</td>\n",
       "      <td>61</td>\n",
       "      <td>2009-07-11</td>\n",
       "      <td>9.000000</td>\n",
       "      <td>En Lima</td>\n",
       "      <td>AG</td>\n",
       "      <td>Yehude Simon (AG)</td>\n",
       "    </tr>\n",
       "    <tr>\n",
       "      <th>21</th>\n",
       "      <td>Jorge del Castillo</td>\n",
       "      <td>M</td>\n",
       "      <td>1950-07-02</td>\n",
       "      <td>Lima</td>\n",
       "      <td>2006-07-28</td>\n",
       "      <td>56</td>\n",
       "      <td>2008-10-14</td>\n",
       "      <td>26.966667</td>\n",
       "      <td>En Lima</td>\n",
       "      <td>AG</td>\n",
       "      <td>Jorge del Castillo (AG)</td>\n",
       "    </tr>\n",
       "    <tr>\n",
       "      <th>22</th>\n",
       "      <td>Pedro Pablo Kuczynski</td>\n",
       "      <td>M</td>\n",
       "      <td>1938-10-03</td>\n",
       "      <td>Lima</td>\n",
       "      <td>2005-08-16</td>\n",
       "      <td>66</td>\n",
       "      <td>2006-07-28</td>\n",
       "      <td>11.533333</td>\n",
       "      <td>En Lima</td>\n",
       "      <td>AT</td>\n",
       "      <td>Pedro Pablo Kuczynski (AT)</td>\n",
       "    </tr>\n",
       "    <tr>\n",
       "      <th>23</th>\n",
       "      <td>Carlos Ferrero Costa</td>\n",
       "      <td>M</td>\n",
       "      <td>1941-02-07</td>\n",
       "      <td>Lima</td>\n",
       "      <td>2003-12-15</td>\n",
       "      <td>62</td>\n",
       "      <td>2005-08-16</td>\n",
       "      <td>20.333333</td>\n",
       "      <td>En Lima</td>\n",
       "      <td>AT</td>\n",
       "      <td>Carlos Ferrero Costa (AT)</td>\n",
       "    </tr>\n",
       "    <tr>\n",
       "      <th>24</th>\n",
       "      <td>Beatriz Merino</td>\n",
       "      <td>F</td>\n",
       "      <td>1947-11-15</td>\n",
       "      <td>Lima</td>\n",
       "      <td>2003-06-23</td>\n",
       "      <td>55</td>\n",
       "      <td>2003-12-15</td>\n",
       "      <td>5.833333</td>\n",
       "      <td>En Lima</td>\n",
       "      <td>AT</td>\n",
       "      <td>Beatriz Merino (AT)</td>\n",
       "    </tr>\n",
       "    <tr>\n",
       "      <th>25</th>\n",
       "      <td>Luis Solari</td>\n",
       "      <td>M</td>\n",
       "      <td>1948-01-28</td>\n",
       "      <td>Lima</td>\n",
       "      <td>2002-07-12</td>\n",
       "      <td>54</td>\n",
       "      <td>2003-06-23</td>\n",
       "      <td>11.533333</td>\n",
       "      <td>En Lima</td>\n",
       "      <td>AT</td>\n",
       "      <td>Luis Solari (AT)</td>\n",
       "    </tr>\n",
       "    <tr>\n",
       "      <th>26</th>\n",
       "      <td>Roberto Dañino</td>\n",
       "      <td>M</td>\n",
       "      <td>1951-03-02</td>\n",
       "      <td>Lima</td>\n",
       "      <td>2001-07-28</td>\n",
       "      <td>50</td>\n",
       "      <td>2002-07-12</td>\n",
       "      <td>11.633333</td>\n",
       "      <td>En Lima</td>\n",
       "      <td>AT</td>\n",
       "      <td>Roberto Dañino (AT)</td>\n",
       "    </tr>\n",
       "  </tbody>\n",
       "</table>\n",
       "</div>"
      ],
      "text/plain": [
       "                       Nombre Sexo Fecha de nacimiento Departamento  \\\n",
       "0               Guido Bellido    M          1979-08-07        Cusco   \n",
       "1            Violeta Bermudez    F          1961-08-12         Lima   \n",
       "2         Antero Flores-Araoz    M          1942-02-28         Lima   \n",
       "3               Walter Martos    M          1957-02-11    Cajamarca   \n",
       "4             Pedro Cateriano    M          1958-06-26         Lima   \n",
       "5            Vicente Zeballos    M          1963-05-10        Tacna   \n",
       "6          Salvador del Solar    M          1970-05-01         Lima   \n",
       "7            Cesar Villanueva    M          1946-08-05   San Martin   \n",
       "8              Mercedes Araoz    F          1961-08-05         Lima   \n",
       "9             Fernando Zavala    M          1971-02-19        Tacna   \n",
       "10            Pedro Cateriano    M          1958-06-26         Lima   \n",
       "11                   Ana Jara    F          1968-05-11          Ica   \n",
       "12               Rene Cornejo    M          1962-01-06     Arequipa   \n",
       "13           Cesar Villanueva    M          1946-08-05   San Martin   \n",
       "14         Juan Jimenez Mayor    M          1964-08-05         Lima   \n",
       "15               Oscar Valdes    M          1949-04-03        Tacna   \n",
       "16      Salomon Lerner Ghitis    M          1946-02-04         Lima   \n",
       "17          Rosario Fernandez    F          1955-11-09         Lima   \n",
       "18         Jose Antonio Chang    M          1958-05-19         Lima   \n",
       "19  Javier Velasquez Quesquen    M          1960-03-12   Lambayeque   \n",
       "20               Yehude Simon    M          1947-07-18         Lima   \n",
       "21         Jorge del Castillo    M          1950-07-02         Lima   \n",
       "22      Pedro Pablo Kuczynski    M          1938-10-03         Lima   \n",
       "23       Carlos Ferrero Costa    M          1941-02-07         Lima   \n",
       "24             Beatriz Merino    F          1947-11-15         Lima   \n",
       "25                Luis Solari    M          1948-01-28         Lima   \n",
       "26             Roberto Dañino    M          1951-03-02         Lima   \n",
       "\n",
       "   Fecha de juramentacion  Edad al juramentar Fecha final  Meses en el cargo  \\\n",
       "0              2021-07-27                  41  2021-08-26           1.000000   \n",
       "1              2020-11-18                  59  2021-07-27           8.366667   \n",
       "2              2020-11-11                  78  2020-11-18           0.233333   \n",
       "3              2020-08-06                  63  2020-11-11           3.233333   \n",
       "4              2020-07-15                  62  2020-08-06           0.733333   \n",
       "5              2019-09-30                  56  2020-07-15           9.633333   \n",
       "6              2019-03-11                  48  2019-09-30           6.766667   \n",
       "7              2018-04-02                  71  2019-03-11          11.433333   \n",
       "8              2017-09-17                  56  2018-04-02           6.566667   \n",
       "9              2016-07-28                  45  2017-09-17          13.866667   \n",
       "10             2015-04-02                  56  2016-07-28          16.100000   \n",
       "11             2014-07-22                  46  2015-04-02           8.466667   \n",
       "12             2014-02-24                  52  2014-07-22           4.933333   \n",
       "13             2013-10-31                  67  2014-02-24           3.866667   \n",
       "14             2012-07-23                  47  2013-10-31          15.500000   \n",
       "15             2011-12-11                  62  2012-07-23           7.500000   \n",
       "16             2011-07-28                  65  2011-12-11           4.533333   \n",
       "17             2011-03-19                  55  2011-07-28           4.366667   \n",
       "18             2010-09-14                  52  2011-03-19           6.200000   \n",
       "19             2009-07-11                  49  2010-09-14          14.333333   \n",
       "20             2008-10-14                  61  2009-07-11           9.000000   \n",
       "21             2006-07-28                  56  2008-10-14          26.966667   \n",
       "22             2005-08-16                  66  2006-07-28          11.533333   \n",
       "23             2003-12-15                  62  2005-08-16          20.333333   \n",
       "24             2003-06-23                  55  2003-12-15           5.833333   \n",
       "25             2002-07-12                  54  2003-06-23          11.533333   \n",
       "26             2001-07-28                  50  2002-07-12          11.633333   \n",
       "\n",
       "   Nacida/o en Lima? Presidente                         Nombre2  \n",
       "0      Fuera de Lima         PC              Guido Bellido (PC)  \n",
       "1            En Lima         FS           Violeta Bermudez (FS)  \n",
       "2            En Lima         MM        Antero Flores-Araoz (MM)  \n",
       "3      Fuera de Lima         MV              Walter Martos (MV)  \n",
       "4            En Lima         MV            Pedro Cateriano (MV)  \n",
       "5      Fuera de Lima         MV           Vicente Zeballos (MV)  \n",
       "6            En Lima         MV         Salvador del Solar (MV)  \n",
       "7      Fuera de Lima         MV           Cesar Villanueva (MV)  \n",
       "8            En Lima        PPK            Mercedes Araoz (PPK)  \n",
       "9      Fuera de Lima        PPK           Fernando Zavala (PPK)  \n",
       "10           En Lima         OH            Pedro Cateriano (OH)  \n",
       "11     Fuera de Lima         OH                   Ana Jara (OH)  \n",
       "12     Fuera de Lima         OH               Rene Cornejo (OH)  \n",
       "13     Fuera de Lima         OH           Cesar Villanueva (OH)  \n",
       "14           En Lima         OH         Juan Jimenez Mayor (OH)  \n",
       "15     Fuera de Lima         OH               Oscar Valdes (OH)  \n",
       "16           En Lima         OH      Salomon Lerner Ghitis (OH)  \n",
       "17           En Lima         AG          Rosario Fernandez (AG)  \n",
       "18           En Lima         AG         Jose Antonio Chang (AG)  \n",
       "19     Fuera de Lima         AG  Javier Velasquez Quesquen (AG)  \n",
       "20           En Lima         AG               Yehude Simon (AG)  \n",
       "21           En Lima         AG         Jorge del Castillo (AG)  \n",
       "22           En Lima         AT      Pedro Pablo Kuczynski (AT)  \n",
       "23           En Lima         AT       Carlos Ferrero Costa (AT)  \n",
       "24           En Lima         AT             Beatriz Merino (AT)  \n",
       "25           En Lima         AT                Luis Solari (AT)  \n",
       "26           En Lima         AT             Roberto Dañino (AT)  "
      ]
     },
     "execution_count": 5,
     "metadata": {},
     "output_type": "execute_result"
    }
   ],
   "source": [
    "df"
   ]
  },
  {
   "cell_type": "code",
   "execution_count": 6,
   "metadata": {},
   "outputs": [
    {
     "data": {
      "text/html": [
       "\n",
       "<div id=\"altair-viz-9492538a0fce442ba336e625ecf1e158\"></div>\n",
       "<script type=\"text/javascript\">\n",
       "  (function(spec, embedOpt){\n",
       "    let outputDiv = document.currentScript.previousElementSibling;\n",
       "    if (outputDiv.id !== \"altair-viz-9492538a0fce442ba336e625ecf1e158\") {\n",
       "      outputDiv = document.getElementById(\"altair-viz-9492538a0fce442ba336e625ecf1e158\");\n",
       "    }\n",
       "    const paths = {\n",
       "      \"vega\": \"https://cdn.jsdelivr.net/npm//vega@5?noext\",\n",
       "      \"vega-lib\": \"https://cdn.jsdelivr.net/npm//vega-lib?noext\",\n",
       "      \"vega-lite\": \"https://cdn.jsdelivr.net/npm//vega-lite@4.8.1?noext\",\n",
       "      \"vega-embed\": \"https://cdn.jsdelivr.net/npm//vega-embed@6?noext\",\n",
       "    };\n",
       "\n",
       "    function loadScript(lib) {\n",
       "      return new Promise(function(resolve, reject) {\n",
       "        var s = document.createElement('script');\n",
       "        s.src = paths[lib];\n",
       "        s.async = true;\n",
       "        s.onload = () => resolve(paths[lib]);\n",
       "        s.onerror = () => reject(`Error loading script: ${paths[lib]}`);\n",
       "        document.getElementsByTagName(\"head\")[0].appendChild(s);\n",
       "      });\n",
       "    }\n",
       "\n",
       "    function showError(err) {\n",
       "      outputDiv.innerHTML = `<div class=\"error\" style=\"color:red;\">${err}</div>`;\n",
       "      throw err;\n",
       "    }\n",
       "\n",
       "    function displayChart(vegaEmbed) {\n",
       "      vegaEmbed(outputDiv, spec, embedOpt)\n",
       "        .catch(err => showError(`Javascript Error: ${err.message}<br>This usually means there's a typo in your chart specification. See the javascript console for the full traceback.`));\n",
       "    }\n",
       "\n",
       "    if(typeof define === \"function\" && define.amd) {\n",
       "      requirejs.config({paths});\n",
       "      require([\"vega-embed\"], displayChart, err => showError(`Error loading script: ${err.message}`));\n",
       "    } else if (typeof vegaEmbed === \"function\") {\n",
       "      displayChart(vegaEmbed);\n",
       "    } else {\n",
       "      loadScript(\"vega\")\n",
       "        .then(() => loadScript(\"vega-lite\"))\n",
       "        .then(() => loadScript(\"vega-embed\"))\n",
       "        .catch(showError)\n",
       "        .then(() => displayChart(vegaEmbed));\n",
       "    }\n",
       "  })({\"width\": 500, \"height\": 500, \"config\": {\"title\": {\"font\": \"Sanchez\", \"fontSize\": 18, \"fontWeight\": 600, \"fontColor\": \"#000000\", \"offset\": 24, \"anchor\": \"start\"}, \"axisX\": {\"labelFont\": \"Sanchez\", \"titleFont\": \"Sanchez\", \"domainColor\": \"#000000\", \"grid\": false, \"domain\": true}, \"axisY\": {\"labelFont\": \"Sanchez\", \"titleFont\": \"Sanchez\", \"domainColor\": \"#000000\", \"domain\": true}, \"header\": {\"labelFont\": \"Sanchez\", \"titleFont\": \"Sanchez\"}, \"range\": {\"category\": [\"#5297AC\", \"#ac6e69\", \"#4ba479\", \"#e2a920\", \"#BAA6A5\", \"#A6C6C1\", \"#55b748\", \"#5c5859\", \"#db2b27\"], \"diverging\": [\"#cfe8f3\", \"#a2d4ec\", \"#73bfe2\", \"#46abdb\", \"#1696d2\", \"#12719e\"]}, \"view\": {\"stroke\": \"transparent\"}, \"legend\": {\"labelFont\": \"Sanchez\", \"titleFont\": \"Sanchez\", \"symbolType\": \"circle\", \"padding\": 1}, \"area\": {\"fill\": \"#5297AC\"}, \"line\": {\"color\": \"#5297AC\", \"stroke\": \"#5297AC\", \"strokeWidth\": 4}, \"trail\": {\"color\": \"#ff0800\", \"stroke\": \"#ff0800\", \"strokeWidth\": 100, \"size\": 50}, \"path\": {\"stroke\": \"#ff0800\", \"strokeWidth\": 0.1}, \"point\": {\"filled\": true, \"opacity\": 1, \"size\": 100}, \"circle\": {\"filled\": true, \"opacity\": 1, \"size\": 100, \"color\": \"#5297AC\"}, \"text\": {\"font\": \"Sanchez\", \"color\": \"#808080\", \"fontSize\": 11, \"align\": \"right\", \"fontWeight\": 400, \"size\": 11}, \"bar\": {\"binSpacing\": 1, \"continuousBandSize\": 30, \"discreteBandSize\": 30, \"fill\": \"#5297AC\", \"stroke\": false}, \"background\": \"#F9F7F3\"}, \"data\": {\"name\": \"data-f2be364a1dd3274da8066449f22ce69d\"}, \"mark\": {\"type\": \"bar\", \"size\": 12}, \"encoding\": {\"color\": {\"type\": \"nominal\", \"field\": \"Sexo\"}, \"x\": {\"type\": \"quantitative\", \"field\": \"Meses en el cargo\"}, \"y\": {\"type\": \"nominal\", \"field\": \"Nombre2\", \"sort\": [\"Guido Bellido\", \"Violeta Bermudez\", \"Antero Flores-Araoz\", \"Walter Martos\", \"Pedro Cateriano\", \"Vicente Zeballos\", \"Salvador del Solar\", \"Cesar Villanueva\", \"Mercedes Araoz\", \"Fernando Zavala\", \"Pedro Cateriano\", \"Ana Jara\", \"Rene Cornejo\", \"Cesar Villanueva\", \"Juan Jimenez Mayor\", \"Oscar Valdes\", \"Salomon Lerner Ghitis\", \"Rosario Fernandez\", \"Jose Antonio Chang\", \"Javier Velasquez Quesquen\", \"Yehude Simon\", \"Jorge del Castillo\", \"Pedro Pablo Kuczynski\", \"Carlos Ferrero Costa\", \"Beatriz Merino\", \"Luis Solari\", \"Roberto Da\\u00f1ino\"], \"title\": null}}, \"title\": {\"text\": \"Duraci\\u00f3n en el cargo de Presidente del Consejo de Ministros, por sexo\", \"subtitle\": [\"Periodo: 2001-2021. Nombres en orden cronol\\u00f3gico. Las iniciales en par\\u00e9ntesis corresponden al presidente de la rep\\u00fablica\", \"Fuente: Wikipedia\", \"Elaboracion: desarro.io\"], \"subtitleFont\": \"Sanchez\"}, \"$schema\": \"https://vega.github.io/schema/vega-lite/v4.8.1.json\", \"datasets\": {\"data-f2be364a1dd3274da8066449f22ce69d\": [{\"Nombre\": \"Guido Bellido\", \"Sexo\": \"M\", \"Fecha de nacimiento\": \"1979-08-07T00:00:00\", \"Departamento\": \"Cusco\", \"Fecha de juramentacion\": \"2021-07-27T00:00:00\", \"Edad al juramentar\": 41, \"Fecha final\": \"2021-08-26T00:00:00\", \"Meses en el cargo\": 1.0, \"Nacida/o en Lima?\": \"Fuera de Lima\", \"Presidente\": \"PC\", \"Nombre2\": \"Guido Bellido (PC)\"}, {\"Nombre\": \"Violeta Bermudez\", \"Sexo\": \"F\", \"Fecha de nacimiento\": \"1961-08-12T00:00:00\", \"Departamento\": \"Lima\", \"Fecha de juramentacion\": \"2020-11-18T00:00:00\", \"Edad al juramentar\": 59, \"Fecha final\": \"2021-07-27T00:00:00\", \"Meses en el cargo\": 8.366666666666667, \"Nacida/o en Lima?\": \"En Lima\", \"Presidente\": \"FS\", \"Nombre2\": \"Violeta Bermudez (FS)\"}, {\"Nombre\": \"Antero Flores-Araoz\", \"Sexo\": \"M\", \"Fecha de nacimiento\": \"1942-02-28T00:00:00\", \"Departamento\": \"Lima\", \"Fecha de juramentacion\": \"2020-11-11T00:00:00\", \"Edad al juramentar\": 78, \"Fecha final\": \"2020-11-18T00:00:00\", \"Meses en el cargo\": 0.23333333333333334, \"Nacida/o en Lima?\": \"En Lima\", \"Presidente\": \"MM\", \"Nombre2\": \"Antero Flores-Araoz (MM)\"}, {\"Nombre\": \"Walter Martos\", \"Sexo\": \"M\", \"Fecha de nacimiento\": \"1957-02-11T00:00:00\", \"Departamento\": \"Cajamarca\", \"Fecha de juramentacion\": \"2020-08-06T00:00:00\", \"Edad al juramentar\": 63, \"Fecha final\": \"2020-11-11T00:00:00\", \"Meses en el cargo\": 3.2333333333333334, \"Nacida/o en Lima?\": \"Fuera de Lima\", \"Presidente\": \"MV\", \"Nombre2\": \"Walter Martos (MV)\"}, {\"Nombre\": \"Pedro Cateriano\", \"Sexo\": \"M\", \"Fecha de nacimiento\": \"1958-06-26T00:00:00\", \"Departamento\": \"Lima\", \"Fecha de juramentacion\": \"2020-07-15T00:00:00\", \"Edad al juramentar\": 62, \"Fecha final\": \"2020-08-06T00:00:00\", \"Meses en el cargo\": 0.7333333333333333, \"Nacida/o en Lima?\": \"En Lima\", \"Presidente\": \"MV\", \"Nombre2\": \"Pedro Cateriano (MV)\"}, {\"Nombre\": \"Vicente Zeballos\", \"Sexo\": \"M\", \"Fecha de nacimiento\": \"1963-05-10T00:00:00\", \"Departamento\": \"Tacna\", \"Fecha de juramentacion\": \"2019-09-30T00:00:00\", \"Edad al juramentar\": 56, \"Fecha final\": \"2020-07-15T00:00:00\", \"Meses en el cargo\": 9.633333333333333, \"Nacida/o en Lima?\": \"Fuera de Lima\", \"Presidente\": \"MV\", \"Nombre2\": \"Vicente Zeballos (MV)\"}, {\"Nombre\": \"Salvador del Solar\", \"Sexo\": \"M\", \"Fecha de nacimiento\": \"1970-05-01T00:00:00\", \"Departamento\": \"Lima\", \"Fecha de juramentacion\": \"2019-03-11T00:00:00\", \"Edad al juramentar\": 48, \"Fecha final\": \"2019-09-30T00:00:00\", \"Meses en el cargo\": 6.766666666666667, \"Nacida/o en Lima?\": \"En Lima\", \"Presidente\": \"MV\", \"Nombre2\": \"Salvador del Solar (MV)\"}, {\"Nombre\": \"Cesar Villanueva\", \"Sexo\": \"M\", \"Fecha de nacimiento\": \"1946-08-05T00:00:00\", \"Departamento\": \"San Martin\", \"Fecha de juramentacion\": \"2018-04-02T00:00:00\", \"Edad al juramentar\": 71, \"Fecha final\": \"2019-03-11T00:00:00\", \"Meses en el cargo\": 11.433333333333334, \"Nacida/o en Lima?\": \"Fuera de Lima\", \"Presidente\": \"MV\", \"Nombre2\": \"Cesar Villanueva (MV)\"}, {\"Nombre\": \"Mercedes Araoz\", \"Sexo\": \"F\", \"Fecha de nacimiento\": \"1961-08-05T00:00:00\", \"Departamento\": \"Lima\", \"Fecha de juramentacion\": \"2017-09-17T00:00:00\", \"Edad al juramentar\": 56, \"Fecha final\": \"2018-04-02T00:00:00\", \"Meses en el cargo\": 6.566666666666666, \"Nacida/o en Lima?\": \"En Lima\", \"Presidente\": \"PPK\", \"Nombre2\": \"Mercedes Araoz (PPK)\"}, {\"Nombre\": \"Fernando Zavala\", \"Sexo\": \"M\", \"Fecha de nacimiento\": \"1971-02-19T00:00:00\", \"Departamento\": \"Tacna\", \"Fecha de juramentacion\": \"2016-07-28T00:00:00\", \"Edad al juramentar\": 45, \"Fecha final\": \"2017-09-17T00:00:00\", \"Meses en el cargo\": 13.866666666666667, \"Nacida/o en Lima?\": \"Fuera de Lima\", \"Presidente\": \"PPK\", \"Nombre2\": \"Fernando Zavala (PPK)\"}, {\"Nombre\": \"Pedro Cateriano\", \"Sexo\": \"M\", \"Fecha de nacimiento\": \"1958-06-26T00:00:00\", \"Departamento\": \"Lima\", \"Fecha de juramentacion\": \"2015-04-02T00:00:00\", \"Edad al juramentar\": 56, \"Fecha final\": \"2016-07-28T00:00:00\", \"Meses en el cargo\": 16.1, \"Nacida/o en Lima?\": \"En Lima\", \"Presidente\": \"OH\", \"Nombre2\": \"Pedro Cateriano (OH)\"}, {\"Nombre\": \"Ana Jara\", \"Sexo\": \"F\", \"Fecha de nacimiento\": \"1968-05-11T00:00:00\", \"Departamento\": \"Ica\", \"Fecha de juramentacion\": \"2014-07-22T00:00:00\", \"Edad al juramentar\": 46, \"Fecha final\": \"2015-04-02T00:00:00\", \"Meses en el cargo\": 8.466666666666667, \"Nacida/o en Lima?\": \"Fuera de Lima\", \"Presidente\": \"OH\", \"Nombre2\": \"Ana Jara (OH)\"}, {\"Nombre\": \"Rene Cornejo\", \"Sexo\": \"M\", \"Fecha de nacimiento\": \"1962-01-06T00:00:00\", \"Departamento\": \"Arequipa\", \"Fecha de juramentacion\": \"2014-02-24T00:00:00\", \"Edad al juramentar\": 52, \"Fecha final\": \"2014-07-22T00:00:00\", \"Meses en el cargo\": 4.933333333333334, \"Nacida/o en Lima?\": \"Fuera de Lima\", \"Presidente\": \"OH\", \"Nombre2\": \"Rene Cornejo (OH)\"}, {\"Nombre\": \"Cesar Villanueva\", \"Sexo\": \"M\", \"Fecha de nacimiento\": \"1946-08-05T00:00:00\", \"Departamento\": \"San Martin\", \"Fecha de juramentacion\": \"2013-10-31T00:00:00\", \"Edad al juramentar\": 67, \"Fecha final\": \"2014-02-24T00:00:00\", \"Meses en el cargo\": 3.8666666666666667, \"Nacida/o en Lima?\": \"Fuera de Lima\", \"Presidente\": \"OH\", \"Nombre2\": \"Cesar Villanueva (OH)\"}, {\"Nombre\": \"Juan Jimenez Mayor\", \"Sexo\": \"M\", \"Fecha de nacimiento\": \"1964-08-05T00:00:00\", \"Departamento\": \"Lima\", \"Fecha de juramentacion\": \"2012-07-23T00:00:00\", \"Edad al juramentar\": 47, \"Fecha final\": \"2013-10-31T00:00:00\", \"Meses en el cargo\": 15.5, \"Nacida/o en Lima?\": \"En Lima\", \"Presidente\": \"OH\", \"Nombre2\": \"Juan Jimenez Mayor (OH)\"}, {\"Nombre\": \"Oscar Valdes\", \"Sexo\": \"M\", \"Fecha de nacimiento\": \"1949-04-03T00:00:00\", \"Departamento\": \"Tacna\", \"Fecha de juramentacion\": \"2011-12-11T00:00:00\", \"Edad al juramentar\": 62, \"Fecha final\": \"2012-07-23T00:00:00\", \"Meses en el cargo\": 7.5, \"Nacida/o en Lima?\": \"Fuera de Lima\", \"Presidente\": \"OH\", \"Nombre2\": \"Oscar Valdes (OH)\"}, {\"Nombre\": \"Salomon Lerner Ghitis\", \"Sexo\": \"M\", \"Fecha de nacimiento\": \"1946-02-04T00:00:00\", \"Departamento\": \"Lima\", \"Fecha de juramentacion\": \"2011-07-28T00:00:00\", \"Edad al juramentar\": 65, \"Fecha final\": \"2011-12-11T00:00:00\", \"Meses en el cargo\": 4.533333333333333, \"Nacida/o en Lima?\": \"En Lima\", \"Presidente\": \"OH\", \"Nombre2\": \"Salomon Lerner Ghitis (OH)\"}, {\"Nombre\": \"Rosario Fernandez\", \"Sexo\": \"F\", \"Fecha de nacimiento\": \"1955-11-09T00:00:00\", \"Departamento\": \"Lima\", \"Fecha de juramentacion\": \"2011-03-19T00:00:00\", \"Edad al juramentar\": 55, \"Fecha final\": \"2011-07-28T00:00:00\", \"Meses en el cargo\": 4.366666666666666, \"Nacida/o en Lima?\": \"En Lima\", \"Presidente\": \"AG\", \"Nombre2\": \"Rosario Fernandez (AG)\"}, {\"Nombre\": \"Jose Antonio Chang\", \"Sexo\": \"M\", \"Fecha de nacimiento\": \"1958-05-19T00:00:00\", \"Departamento\": \"Lima\", \"Fecha de juramentacion\": \"2010-09-14T00:00:00\", \"Edad al juramentar\": 52, \"Fecha final\": \"2011-03-19T00:00:00\", \"Meses en el cargo\": 6.2, \"Nacida/o en Lima?\": \"En Lima\", \"Presidente\": \"AG\", \"Nombre2\": \"Jose Antonio Chang (AG)\"}, {\"Nombre\": \"Javier Velasquez Quesquen\", \"Sexo\": \"M\", \"Fecha de nacimiento\": \"1960-03-12T00:00:00\", \"Departamento\": \"Lambayeque\", \"Fecha de juramentacion\": \"2009-07-11T00:00:00\", \"Edad al juramentar\": 49, \"Fecha final\": \"2010-09-14T00:00:00\", \"Meses en el cargo\": 14.333333333333334, \"Nacida/o en Lima?\": \"Fuera de Lima\", \"Presidente\": \"AG\", \"Nombre2\": \"Javier Velasquez Quesquen (AG)\"}, {\"Nombre\": \"Yehude Simon\", \"Sexo\": \"M\", \"Fecha de nacimiento\": \"1947-07-18T00:00:00\", \"Departamento\": \"Lima\", \"Fecha de juramentacion\": \"2008-10-14T00:00:00\", \"Edad al juramentar\": 61, \"Fecha final\": \"2009-07-11T00:00:00\", \"Meses en el cargo\": 9.0, \"Nacida/o en Lima?\": \"En Lima\", \"Presidente\": \"AG\", \"Nombre2\": \"Yehude Simon (AG)\"}, {\"Nombre\": \"Jorge del Castillo\", \"Sexo\": \"M\", \"Fecha de nacimiento\": \"1950-07-02T00:00:00\", \"Departamento\": \"Lima\", \"Fecha de juramentacion\": \"2006-07-28T00:00:00\", \"Edad al juramentar\": 56, \"Fecha final\": \"2008-10-14T00:00:00\", \"Meses en el cargo\": 26.966666666666665, \"Nacida/o en Lima?\": \"En Lima\", \"Presidente\": \"AG\", \"Nombre2\": \"Jorge del Castillo (AG)\"}, {\"Nombre\": \"Pedro Pablo Kuczynski\", \"Sexo\": \"M\", \"Fecha de nacimiento\": \"1938-10-03T00:00:00\", \"Departamento\": \"Lima\", \"Fecha de juramentacion\": \"2005-08-16T00:00:00\", \"Edad al juramentar\": 66, \"Fecha final\": \"2006-07-28T00:00:00\", \"Meses en el cargo\": 11.533333333333333, \"Nacida/o en Lima?\": \"En Lima\", \"Presidente\": \"AT\", \"Nombre2\": \"Pedro Pablo Kuczynski (AT)\"}, {\"Nombre\": \"Carlos Ferrero Costa\", \"Sexo\": \"M\", \"Fecha de nacimiento\": \"1941-02-07T00:00:00\", \"Departamento\": \"Lima\", \"Fecha de juramentacion\": \"2003-12-15T00:00:00\", \"Edad al juramentar\": 62, \"Fecha final\": \"2005-08-16T00:00:00\", \"Meses en el cargo\": 20.333333333333332, \"Nacida/o en Lima?\": \"En Lima\", \"Presidente\": \"AT\", \"Nombre2\": \"Carlos Ferrero Costa (AT)\"}, {\"Nombre\": \"Beatriz Merino\", \"Sexo\": \"F\", \"Fecha de nacimiento\": \"1947-11-15T00:00:00\", \"Departamento\": \"Lima\", \"Fecha de juramentacion\": \"2003-06-23T00:00:00\", \"Edad al juramentar\": 55, \"Fecha final\": \"2003-12-15T00:00:00\", \"Meses en el cargo\": 5.833333333333333, \"Nacida/o en Lima?\": \"En Lima\", \"Presidente\": \"AT\", \"Nombre2\": \"Beatriz Merino (AT)\"}, {\"Nombre\": \"Luis Solari\", \"Sexo\": \"M\", \"Fecha de nacimiento\": \"1948-01-28T00:00:00\", \"Departamento\": \"Lima\", \"Fecha de juramentacion\": \"2002-07-12T00:00:00\", \"Edad al juramentar\": 54, \"Fecha final\": \"2003-06-23T00:00:00\", \"Meses en el cargo\": 11.533333333333333, \"Nacida/o en Lima?\": \"En Lima\", \"Presidente\": \"AT\", \"Nombre2\": \"Luis Solari (AT)\"}, {\"Nombre\": \"Roberto Da\\u00f1ino\", \"Sexo\": \"M\", \"Fecha de nacimiento\": \"1951-03-02T00:00:00\", \"Departamento\": \"Lima\", \"Fecha de juramentacion\": \"2001-07-28T00:00:00\", \"Edad al juramentar\": 50, \"Fecha final\": \"2002-07-12T00:00:00\", \"Meses en el cargo\": 11.633333333333333, \"Nacida/o en Lima?\": \"En Lima\", \"Presidente\": \"AT\", \"Nombre2\": \"Roberto Da\\u00f1ino (AT)\"}]}}, {\"mode\": \"vega-lite\"});\n",
       "</script>"
      ],
      "text/plain": [
       "alt.Chart(...)"
      ]
     },
     "execution_count": 6,
     "metadata": {},
     "output_type": "execute_result"
    }
   ],
   "source": [
    "vis = alt.Chart(df).mark_bar(size=12).encode(\n",
    "    y = alt.Y('Nombre2:N',\n",
    "              sort=list(df['Nombre']),\n",
    "              title=None),\n",
    "    x = alt.X('Meses en el cargo:Q'),\n",
    "    color = 'Sexo:N',\n",
    "    #row = 'Departamento'\n",
    ").properties(\n",
    "    title={\n",
    "        'text': 'Duración en el cargo de Presidente del Consejo de Ministros, por sexo',\n",
    "        'subtitle': ['Periodo: 2001-2021. Nombres en orden cronológico. Las iniciales en paréntesis corresponden al presidente de la república',\n",
    "                     'Fuente: Wikipedia',\n",
    "                     'Elaboracion: desarro.io'],\n",
    "        \"subtitleFont\": \"Sanchez\",\n",
    "    },\n",
    "    width = 500,\n",
    "    height = 500\n",
    ")\n",
    "vis"
   ]
  },
  {
   "cell_type": "code",
   "execution_count": 7,
   "metadata": {},
   "outputs": [
    {
     "data": {
      "text/html": [
       "\n",
       "<div id=\"altair-viz-85eeaafbacf54ee995342b511d40d0cd\"></div>\n",
       "<script type=\"text/javascript\">\n",
       "  (function(spec, embedOpt){\n",
       "    let outputDiv = document.currentScript.previousElementSibling;\n",
       "    if (outputDiv.id !== \"altair-viz-85eeaafbacf54ee995342b511d40d0cd\") {\n",
       "      outputDiv = document.getElementById(\"altair-viz-85eeaafbacf54ee995342b511d40d0cd\");\n",
       "    }\n",
       "    const paths = {\n",
       "      \"vega\": \"https://cdn.jsdelivr.net/npm//vega@5?noext\",\n",
       "      \"vega-lib\": \"https://cdn.jsdelivr.net/npm//vega-lib?noext\",\n",
       "      \"vega-lite\": \"https://cdn.jsdelivr.net/npm//vega-lite@4.8.1?noext\",\n",
       "      \"vega-embed\": \"https://cdn.jsdelivr.net/npm//vega-embed@6?noext\",\n",
       "    };\n",
       "\n",
       "    function loadScript(lib) {\n",
       "      return new Promise(function(resolve, reject) {\n",
       "        var s = document.createElement('script');\n",
       "        s.src = paths[lib];\n",
       "        s.async = true;\n",
       "        s.onload = () => resolve(paths[lib]);\n",
       "        s.onerror = () => reject(`Error loading script: ${paths[lib]}`);\n",
       "        document.getElementsByTagName(\"head\")[0].appendChild(s);\n",
       "      });\n",
       "    }\n",
       "\n",
       "    function showError(err) {\n",
       "      outputDiv.innerHTML = `<div class=\"error\" style=\"color:red;\">${err}</div>`;\n",
       "      throw err;\n",
       "    }\n",
       "\n",
       "    function displayChart(vegaEmbed) {\n",
       "      vegaEmbed(outputDiv, spec, embedOpt)\n",
       "        .catch(err => showError(`Javascript Error: ${err.message}<br>This usually means there's a typo in your chart specification. See the javascript console for the full traceback.`));\n",
       "    }\n",
       "\n",
       "    if(typeof define === \"function\" && define.amd) {\n",
       "      requirejs.config({paths});\n",
       "      require([\"vega-embed\"], displayChart, err => showError(`Error loading script: ${err.message}`));\n",
       "    } else if (typeof vegaEmbed === \"function\") {\n",
       "      displayChart(vegaEmbed);\n",
       "    } else {\n",
       "      loadScript(\"vega\")\n",
       "        .then(() => loadScript(\"vega-lite\"))\n",
       "        .then(() => loadScript(\"vega-embed\"))\n",
       "        .catch(showError)\n",
       "        .then(() => displayChart(vegaEmbed));\n",
       "    }\n",
       "  })({\"width\": 500, \"height\": 500, \"config\": {\"title\": {\"font\": \"Sanchez\", \"fontSize\": 18, \"fontWeight\": 600, \"fontColor\": \"#000000\", \"offset\": 24, \"anchor\": \"start\"}, \"axisX\": {\"labelFont\": \"Sanchez\", \"titleFont\": \"Sanchez\", \"domainColor\": \"#000000\", \"grid\": false, \"domain\": true}, \"axisY\": {\"labelFont\": \"Sanchez\", \"titleFont\": \"Sanchez\", \"domainColor\": \"#000000\", \"domain\": true}, \"header\": {\"labelFont\": \"Sanchez\", \"titleFont\": \"Sanchez\"}, \"range\": {\"category\": [\"#5297AC\", \"#ac6e69\", \"#4ba479\", \"#e2a920\", \"#BAA6A5\", \"#A6C6C1\", \"#55b748\", \"#5c5859\", \"#db2b27\"], \"diverging\": [\"#cfe8f3\", \"#a2d4ec\", \"#73bfe2\", \"#46abdb\", \"#1696d2\", \"#12719e\"]}, \"view\": {\"stroke\": \"transparent\"}, \"legend\": {\"labelFont\": \"Sanchez\", \"titleFont\": \"Sanchez\", \"symbolType\": \"circle\", \"padding\": 1}, \"area\": {\"fill\": \"#5297AC\"}, \"line\": {\"color\": \"#5297AC\", \"stroke\": \"#5297AC\", \"strokeWidth\": 4}, \"trail\": {\"color\": \"#ff0800\", \"stroke\": \"#ff0800\", \"strokeWidth\": 100, \"size\": 50}, \"path\": {\"stroke\": \"#ff0800\", \"strokeWidth\": 0.1}, \"point\": {\"filled\": true, \"opacity\": 1, \"size\": 100}, \"circle\": {\"filled\": true, \"opacity\": 1, \"size\": 100, \"color\": \"#5297AC\"}, \"text\": {\"font\": \"Sanchez\", \"color\": \"#808080\", \"fontSize\": 11, \"align\": \"right\", \"fontWeight\": 400, \"size\": 11}, \"bar\": {\"binSpacing\": 1, \"continuousBandSize\": 30, \"discreteBandSize\": 30, \"fill\": \"#5297AC\", \"stroke\": false}, \"background\": \"#F9F7F3\"}, \"data\": {\"name\": \"data-f2be364a1dd3274da8066449f22ce69d\"}, \"mark\": {\"type\": \"bar\", \"size\": 12}, \"encoding\": {\"color\": {\"type\": \"nominal\", \"field\": \"Nacida/o en Lima?\"}, \"x\": {\"type\": \"quantitative\", \"field\": \"Edad al juramentar\"}, \"y\": {\"type\": \"nominal\", \"field\": \"Nombre2\", \"sort\": [\"Guido Bellido (PC)\", \"Violeta Bermudez (FS)\", \"Antero Flores-Araoz (MM)\", \"Walter Martos (MV)\", \"Pedro Cateriano (MV)\", \"Vicente Zeballos (MV)\", \"Salvador del Solar (MV)\", \"Cesar Villanueva (MV)\", \"Mercedes Araoz (PPK)\", \"Fernando Zavala (PPK)\", \"Pedro Cateriano (OH)\", \"Ana Jara (OH)\", \"Rene Cornejo (OH)\", \"Cesar Villanueva (OH)\", \"Juan Jimenez Mayor (OH)\", \"Oscar Valdes (OH)\", \"Salomon Lerner Ghitis (OH)\", \"Rosario Fernandez (AG)\", \"Jose Antonio Chang (AG)\", \"Javier Velasquez Quesquen (AG)\", \"Yehude Simon (AG)\", \"Jorge del Castillo (AG)\", \"Pedro Pablo Kuczynski (AT)\", \"Carlos Ferrero Costa (AT)\", \"Beatriz Merino (AT)\", \"Luis Solari (AT)\", \"Roberto Da\\u00f1ino (AT)\"], \"title\": null}}, \"title\": {\"text\": \"Edad al juramentar como Presidente del Consejo de Ministros, por lugar de nacimiento\", \"subtitle\": [\"Periodo: 2001-2021. Nombres en orden cronol\\u00f3gico. Las iniciales en par\\u00e9ntesis corresponden al presidente\", \"Fuente: Wikipedia\", \"Elaboracion: desarro.io\"], \"subtitleFont\": \"Sanchez\"}, \"$schema\": \"https://vega.github.io/schema/vega-lite/v4.8.1.json\", \"datasets\": {\"data-f2be364a1dd3274da8066449f22ce69d\": [{\"Nombre\": \"Guido Bellido\", \"Sexo\": \"M\", \"Fecha de nacimiento\": \"1979-08-07T00:00:00\", \"Departamento\": \"Cusco\", \"Fecha de juramentacion\": \"2021-07-27T00:00:00\", \"Edad al juramentar\": 41, \"Fecha final\": \"2021-08-26T00:00:00\", \"Meses en el cargo\": 1.0, \"Nacida/o en Lima?\": \"Fuera de Lima\", \"Presidente\": \"PC\", \"Nombre2\": \"Guido Bellido (PC)\"}, {\"Nombre\": \"Violeta Bermudez\", \"Sexo\": \"F\", \"Fecha de nacimiento\": \"1961-08-12T00:00:00\", \"Departamento\": \"Lima\", \"Fecha de juramentacion\": \"2020-11-18T00:00:00\", \"Edad al juramentar\": 59, \"Fecha final\": \"2021-07-27T00:00:00\", \"Meses en el cargo\": 8.366666666666667, \"Nacida/o en Lima?\": \"En Lima\", \"Presidente\": \"FS\", \"Nombre2\": \"Violeta Bermudez (FS)\"}, {\"Nombre\": \"Antero Flores-Araoz\", \"Sexo\": \"M\", \"Fecha de nacimiento\": \"1942-02-28T00:00:00\", \"Departamento\": \"Lima\", \"Fecha de juramentacion\": \"2020-11-11T00:00:00\", \"Edad al juramentar\": 78, \"Fecha final\": \"2020-11-18T00:00:00\", \"Meses en el cargo\": 0.23333333333333334, \"Nacida/o en Lima?\": \"En Lima\", \"Presidente\": \"MM\", \"Nombre2\": \"Antero Flores-Araoz (MM)\"}, {\"Nombre\": \"Walter Martos\", \"Sexo\": \"M\", \"Fecha de nacimiento\": \"1957-02-11T00:00:00\", \"Departamento\": \"Cajamarca\", \"Fecha de juramentacion\": \"2020-08-06T00:00:00\", \"Edad al juramentar\": 63, \"Fecha final\": \"2020-11-11T00:00:00\", \"Meses en el cargo\": 3.2333333333333334, \"Nacida/o en Lima?\": \"Fuera de Lima\", \"Presidente\": \"MV\", \"Nombre2\": \"Walter Martos (MV)\"}, {\"Nombre\": \"Pedro Cateriano\", \"Sexo\": \"M\", \"Fecha de nacimiento\": \"1958-06-26T00:00:00\", \"Departamento\": \"Lima\", \"Fecha de juramentacion\": \"2020-07-15T00:00:00\", \"Edad al juramentar\": 62, \"Fecha final\": \"2020-08-06T00:00:00\", \"Meses en el cargo\": 0.7333333333333333, \"Nacida/o en Lima?\": \"En Lima\", \"Presidente\": \"MV\", \"Nombre2\": \"Pedro Cateriano (MV)\"}, {\"Nombre\": \"Vicente Zeballos\", \"Sexo\": \"M\", \"Fecha de nacimiento\": \"1963-05-10T00:00:00\", \"Departamento\": \"Tacna\", \"Fecha de juramentacion\": \"2019-09-30T00:00:00\", \"Edad al juramentar\": 56, \"Fecha final\": \"2020-07-15T00:00:00\", \"Meses en el cargo\": 9.633333333333333, \"Nacida/o en Lima?\": \"Fuera de Lima\", \"Presidente\": \"MV\", \"Nombre2\": \"Vicente Zeballos (MV)\"}, {\"Nombre\": \"Salvador del Solar\", \"Sexo\": \"M\", \"Fecha de nacimiento\": \"1970-05-01T00:00:00\", \"Departamento\": \"Lima\", \"Fecha de juramentacion\": \"2019-03-11T00:00:00\", \"Edad al juramentar\": 48, \"Fecha final\": \"2019-09-30T00:00:00\", \"Meses en el cargo\": 6.766666666666667, \"Nacida/o en Lima?\": \"En Lima\", \"Presidente\": \"MV\", \"Nombre2\": \"Salvador del Solar (MV)\"}, {\"Nombre\": \"Cesar Villanueva\", \"Sexo\": \"M\", \"Fecha de nacimiento\": \"1946-08-05T00:00:00\", \"Departamento\": \"San Martin\", \"Fecha de juramentacion\": \"2018-04-02T00:00:00\", \"Edad al juramentar\": 71, \"Fecha final\": \"2019-03-11T00:00:00\", \"Meses en el cargo\": 11.433333333333334, \"Nacida/o en Lima?\": \"Fuera de Lima\", \"Presidente\": \"MV\", \"Nombre2\": \"Cesar Villanueva (MV)\"}, {\"Nombre\": \"Mercedes Araoz\", \"Sexo\": \"F\", \"Fecha de nacimiento\": \"1961-08-05T00:00:00\", \"Departamento\": \"Lima\", \"Fecha de juramentacion\": \"2017-09-17T00:00:00\", \"Edad al juramentar\": 56, \"Fecha final\": \"2018-04-02T00:00:00\", \"Meses en el cargo\": 6.566666666666666, \"Nacida/o en Lima?\": \"En Lima\", \"Presidente\": \"PPK\", \"Nombre2\": \"Mercedes Araoz (PPK)\"}, {\"Nombre\": \"Fernando Zavala\", \"Sexo\": \"M\", \"Fecha de nacimiento\": \"1971-02-19T00:00:00\", \"Departamento\": \"Tacna\", \"Fecha de juramentacion\": \"2016-07-28T00:00:00\", \"Edad al juramentar\": 45, \"Fecha final\": \"2017-09-17T00:00:00\", \"Meses en el cargo\": 13.866666666666667, \"Nacida/o en Lima?\": \"Fuera de Lima\", \"Presidente\": \"PPK\", \"Nombre2\": \"Fernando Zavala (PPK)\"}, {\"Nombre\": \"Pedro Cateriano\", \"Sexo\": \"M\", \"Fecha de nacimiento\": \"1958-06-26T00:00:00\", \"Departamento\": \"Lima\", \"Fecha de juramentacion\": \"2015-04-02T00:00:00\", \"Edad al juramentar\": 56, \"Fecha final\": \"2016-07-28T00:00:00\", \"Meses en el cargo\": 16.1, \"Nacida/o en Lima?\": \"En Lima\", \"Presidente\": \"OH\", \"Nombre2\": \"Pedro Cateriano (OH)\"}, {\"Nombre\": \"Ana Jara\", \"Sexo\": \"F\", \"Fecha de nacimiento\": \"1968-05-11T00:00:00\", \"Departamento\": \"Ica\", \"Fecha de juramentacion\": \"2014-07-22T00:00:00\", \"Edad al juramentar\": 46, \"Fecha final\": \"2015-04-02T00:00:00\", \"Meses en el cargo\": 8.466666666666667, \"Nacida/o en Lima?\": \"Fuera de Lima\", \"Presidente\": \"OH\", \"Nombre2\": \"Ana Jara (OH)\"}, {\"Nombre\": \"Rene Cornejo\", \"Sexo\": \"M\", \"Fecha de nacimiento\": \"1962-01-06T00:00:00\", \"Departamento\": \"Arequipa\", \"Fecha de juramentacion\": \"2014-02-24T00:00:00\", \"Edad al juramentar\": 52, \"Fecha final\": \"2014-07-22T00:00:00\", \"Meses en el cargo\": 4.933333333333334, \"Nacida/o en Lima?\": \"Fuera de Lima\", \"Presidente\": \"OH\", \"Nombre2\": \"Rene Cornejo (OH)\"}, {\"Nombre\": \"Cesar Villanueva\", \"Sexo\": \"M\", \"Fecha de nacimiento\": \"1946-08-05T00:00:00\", \"Departamento\": \"San Martin\", \"Fecha de juramentacion\": \"2013-10-31T00:00:00\", \"Edad al juramentar\": 67, \"Fecha final\": \"2014-02-24T00:00:00\", \"Meses en el cargo\": 3.8666666666666667, \"Nacida/o en Lima?\": \"Fuera de Lima\", \"Presidente\": \"OH\", \"Nombre2\": \"Cesar Villanueva (OH)\"}, {\"Nombre\": \"Juan Jimenez Mayor\", \"Sexo\": \"M\", \"Fecha de nacimiento\": \"1964-08-05T00:00:00\", \"Departamento\": \"Lima\", \"Fecha de juramentacion\": \"2012-07-23T00:00:00\", \"Edad al juramentar\": 47, \"Fecha final\": \"2013-10-31T00:00:00\", \"Meses en el cargo\": 15.5, \"Nacida/o en Lima?\": \"En Lima\", \"Presidente\": \"OH\", \"Nombre2\": \"Juan Jimenez Mayor (OH)\"}, {\"Nombre\": \"Oscar Valdes\", \"Sexo\": \"M\", \"Fecha de nacimiento\": \"1949-04-03T00:00:00\", \"Departamento\": \"Tacna\", \"Fecha de juramentacion\": \"2011-12-11T00:00:00\", \"Edad al juramentar\": 62, \"Fecha final\": \"2012-07-23T00:00:00\", \"Meses en el cargo\": 7.5, \"Nacida/o en Lima?\": \"Fuera de Lima\", \"Presidente\": \"OH\", \"Nombre2\": \"Oscar Valdes (OH)\"}, {\"Nombre\": \"Salomon Lerner Ghitis\", \"Sexo\": \"M\", \"Fecha de nacimiento\": \"1946-02-04T00:00:00\", \"Departamento\": \"Lima\", \"Fecha de juramentacion\": \"2011-07-28T00:00:00\", \"Edad al juramentar\": 65, \"Fecha final\": \"2011-12-11T00:00:00\", \"Meses en el cargo\": 4.533333333333333, \"Nacida/o en Lima?\": \"En Lima\", \"Presidente\": \"OH\", \"Nombre2\": \"Salomon Lerner Ghitis (OH)\"}, {\"Nombre\": \"Rosario Fernandez\", \"Sexo\": \"F\", \"Fecha de nacimiento\": \"1955-11-09T00:00:00\", \"Departamento\": \"Lima\", \"Fecha de juramentacion\": \"2011-03-19T00:00:00\", \"Edad al juramentar\": 55, \"Fecha final\": \"2011-07-28T00:00:00\", \"Meses en el cargo\": 4.366666666666666, \"Nacida/o en Lima?\": \"En Lima\", \"Presidente\": \"AG\", \"Nombre2\": \"Rosario Fernandez (AG)\"}, {\"Nombre\": \"Jose Antonio Chang\", \"Sexo\": \"M\", \"Fecha de nacimiento\": \"1958-05-19T00:00:00\", \"Departamento\": \"Lima\", \"Fecha de juramentacion\": \"2010-09-14T00:00:00\", \"Edad al juramentar\": 52, \"Fecha final\": \"2011-03-19T00:00:00\", \"Meses en el cargo\": 6.2, \"Nacida/o en Lima?\": \"En Lima\", \"Presidente\": \"AG\", \"Nombre2\": \"Jose Antonio Chang (AG)\"}, {\"Nombre\": \"Javier Velasquez Quesquen\", \"Sexo\": \"M\", \"Fecha de nacimiento\": \"1960-03-12T00:00:00\", \"Departamento\": \"Lambayeque\", \"Fecha de juramentacion\": \"2009-07-11T00:00:00\", \"Edad al juramentar\": 49, \"Fecha final\": \"2010-09-14T00:00:00\", \"Meses en el cargo\": 14.333333333333334, \"Nacida/o en Lima?\": \"Fuera de Lima\", \"Presidente\": \"AG\", \"Nombre2\": \"Javier Velasquez Quesquen (AG)\"}, {\"Nombre\": \"Yehude Simon\", \"Sexo\": \"M\", \"Fecha de nacimiento\": \"1947-07-18T00:00:00\", \"Departamento\": \"Lima\", \"Fecha de juramentacion\": \"2008-10-14T00:00:00\", \"Edad al juramentar\": 61, \"Fecha final\": \"2009-07-11T00:00:00\", \"Meses en el cargo\": 9.0, \"Nacida/o en Lima?\": \"En Lima\", \"Presidente\": \"AG\", \"Nombre2\": \"Yehude Simon (AG)\"}, {\"Nombre\": \"Jorge del Castillo\", \"Sexo\": \"M\", \"Fecha de nacimiento\": \"1950-07-02T00:00:00\", \"Departamento\": \"Lima\", \"Fecha de juramentacion\": \"2006-07-28T00:00:00\", \"Edad al juramentar\": 56, \"Fecha final\": \"2008-10-14T00:00:00\", \"Meses en el cargo\": 26.966666666666665, \"Nacida/o en Lima?\": \"En Lima\", \"Presidente\": \"AG\", \"Nombre2\": \"Jorge del Castillo (AG)\"}, {\"Nombre\": \"Pedro Pablo Kuczynski\", \"Sexo\": \"M\", \"Fecha de nacimiento\": \"1938-10-03T00:00:00\", \"Departamento\": \"Lima\", \"Fecha de juramentacion\": \"2005-08-16T00:00:00\", \"Edad al juramentar\": 66, \"Fecha final\": \"2006-07-28T00:00:00\", \"Meses en el cargo\": 11.533333333333333, \"Nacida/o en Lima?\": \"En Lima\", \"Presidente\": \"AT\", \"Nombre2\": \"Pedro Pablo Kuczynski (AT)\"}, {\"Nombre\": \"Carlos Ferrero Costa\", \"Sexo\": \"M\", \"Fecha de nacimiento\": \"1941-02-07T00:00:00\", \"Departamento\": \"Lima\", \"Fecha de juramentacion\": \"2003-12-15T00:00:00\", \"Edad al juramentar\": 62, \"Fecha final\": \"2005-08-16T00:00:00\", \"Meses en el cargo\": 20.333333333333332, \"Nacida/o en Lima?\": \"En Lima\", \"Presidente\": \"AT\", \"Nombre2\": \"Carlos Ferrero Costa (AT)\"}, {\"Nombre\": \"Beatriz Merino\", \"Sexo\": \"F\", \"Fecha de nacimiento\": \"1947-11-15T00:00:00\", \"Departamento\": \"Lima\", \"Fecha de juramentacion\": \"2003-06-23T00:00:00\", \"Edad al juramentar\": 55, \"Fecha final\": \"2003-12-15T00:00:00\", \"Meses en el cargo\": 5.833333333333333, \"Nacida/o en Lima?\": \"En Lima\", \"Presidente\": \"AT\", \"Nombre2\": \"Beatriz Merino (AT)\"}, {\"Nombre\": \"Luis Solari\", \"Sexo\": \"M\", \"Fecha de nacimiento\": \"1948-01-28T00:00:00\", \"Departamento\": \"Lima\", \"Fecha de juramentacion\": \"2002-07-12T00:00:00\", \"Edad al juramentar\": 54, \"Fecha final\": \"2003-06-23T00:00:00\", \"Meses en el cargo\": 11.533333333333333, \"Nacida/o en Lima?\": \"En Lima\", \"Presidente\": \"AT\", \"Nombre2\": \"Luis Solari (AT)\"}, {\"Nombre\": \"Roberto Da\\u00f1ino\", \"Sexo\": \"M\", \"Fecha de nacimiento\": \"1951-03-02T00:00:00\", \"Departamento\": \"Lima\", \"Fecha de juramentacion\": \"2001-07-28T00:00:00\", \"Edad al juramentar\": 50, \"Fecha final\": \"2002-07-12T00:00:00\", \"Meses en el cargo\": 11.633333333333333, \"Nacida/o en Lima?\": \"En Lima\", \"Presidente\": \"AT\", \"Nombre2\": \"Roberto Da\\u00f1ino (AT)\"}]}}, {\"mode\": \"vega-lite\"});\n",
       "</script>"
      ],
      "text/plain": [
       "alt.Chart(...)"
      ]
     },
     "execution_count": 7,
     "metadata": {},
     "output_type": "execute_result"
    }
   ],
   "source": [
    "vis = alt.Chart(df).mark_bar(size=12).encode(\n",
    "    y = alt.Y('Nombre2:N',\n",
    "              sort=list(df['Nombre2']),\n",
    "              title=None),\n",
    "    x = alt.X('Edad al juramentar:Q'),\n",
    "    color = 'Nacida/o en Lima?:N',\n",
    "    #row = 'Departamento'\n",
    ").properties(\n",
    "    title={\n",
    "        'text': 'Edad al juramentar como Presidente del Consejo de Ministros, por lugar de nacimiento',\n",
    "        'subtitle': ['Periodo: 2001-2021. Nombres en orden cronológico. Las iniciales en paréntesis corresponden al presidente',\n",
    "                     'Fuente: Wikipedia',\n",
    "                     'Elaboracion: desarro.io'],\n",
    "        \"subtitleFont\": \"Sanchez\",\n",
    "    },\n",
    "    width = 500,\n",
    "    height = 500\n",
    ")\n",
    "vis"
   ]
  },
  {
   "cell_type": "code",
   "execution_count": 8,
   "metadata": {},
   "outputs": [
    {
     "data": {
      "text/html": [
       "\n",
       "<div id=\"altair-viz-0862a023b32048b284aa7f0491406f68\"></div>\n",
       "<script type=\"text/javascript\">\n",
       "  (function(spec, embedOpt){\n",
       "    let outputDiv = document.currentScript.previousElementSibling;\n",
       "    if (outputDiv.id !== \"altair-viz-0862a023b32048b284aa7f0491406f68\") {\n",
       "      outputDiv = document.getElementById(\"altair-viz-0862a023b32048b284aa7f0491406f68\");\n",
       "    }\n",
       "    const paths = {\n",
       "      \"vega\": \"https://cdn.jsdelivr.net/npm//vega@5?noext\",\n",
       "      \"vega-lib\": \"https://cdn.jsdelivr.net/npm//vega-lib?noext\",\n",
       "      \"vega-lite\": \"https://cdn.jsdelivr.net/npm//vega-lite@4.8.1?noext\",\n",
       "      \"vega-embed\": \"https://cdn.jsdelivr.net/npm//vega-embed@6?noext\",\n",
       "    };\n",
       "\n",
       "    function loadScript(lib) {\n",
       "      return new Promise(function(resolve, reject) {\n",
       "        var s = document.createElement('script');\n",
       "        s.src = paths[lib];\n",
       "        s.async = true;\n",
       "        s.onload = () => resolve(paths[lib]);\n",
       "        s.onerror = () => reject(`Error loading script: ${paths[lib]}`);\n",
       "        document.getElementsByTagName(\"head\")[0].appendChild(s);\n",
       "      });\n",
       "    }\n",
       "\n",
       "    function showError(err) {\n",
       "      outputDiv.innerHTML = `<div class=\"error\" style=\"color:red;\">${err}</div>`;\n",
       "      throw err;\n",
       "    }\n",
       "\n",
       "    function displayChart(vegaEmbed) {\n",
       "      vegaEmbed(outputDiv, spec, embedOpt)\n",
       "        .catch(err => showError(`Javascript Error: ${err.message}<br>This usually means there's a typo in your chart specification. See the javascript console for the full traceback.`));\n",
       "    }\n",
       "\n",
       "    if(typeof define === \"function\" && define.amd) {\n",
       "      requirejs.config({paths});\n",
       "      require([\"vega-embed\"], displayChart, err => showError(`Error loading script: ${err.message}`));\n",
       "    } else if (typeof vegaEmbed === \"function\") {\n",
       "      displayChart(vegaEmbed);\n",
       "    } else {\n",
       "      loadScript(\"vega\")\n",
       "        .then(() => loadScript(\"vega-lite\"))\n",
       "        .then(() => loadScript(\"vega-embed\"))\n",
       "        .catch(showError)\n",
       "        .then(() => displayChart(vegaEmbed));\n",
       "    }\n",
       "  })({\"width\": 500, \"height\": 500, \"config\": {\"title\": {\"font\": \"Sanchez\", \"fontSize\": 18, \"fontWeight\": 600, \"fontColor\": \"#000000\", \"offset\": 24, \"anchor\": \"start\"}, \"axisX\": {\"labelFont\": \"Sanchez\", \"titleFont\": \"Sanchez\", \"domainColor\": \"#000000\", \"grid\": false, \"domain\": true}, \"axisY\": {\"labelFont\": \"Sanchez\", \"titleFont\": \"Sanchez\", \"domainColor\": \"#000000\", \"domain\": true}, \"header\": {\"labelFont\": \"Sanchez\", \"titleFont\": \"Sanchez\"}, \"range\": {\"category\": [\"#5297AC\", \"#ac6e69\", \"#4ba479\", \"#e2a920\", \"#BAA6A5\", \"#A6C6C1\", \"#55b748\", \"#5c5859\", \"#db2b27\"], \"diverging\": [\"#cfe8f3\", \"#a2d4ec\", \"#73bfe2\", \"#46abdb\", \"#1696d2\", \"#12719e\"]}, \"view\": {\"stroke\": \"transparent\"}, \"legend\": {\"labelFont\": \"Sanchez\", \"titleFont\": \"Sanchez\", \"symbolType\": \"circle\", \"padding\": 1}, \"area\": {\"fill\": \"#5297AC\"}, \"line\": {\"color\": \"#5297AC\", \"stroke\": \"#5297AC\", \"strokeWidth\": 4}, \"trail\": {\"color\": \"#ff0800\", \"stroke\": \"#ff0800\", \"strokeWidth\": 100, \"size\": 50}, \"path\": {\"stroke\": \"#ff0800\", \"strokeWidth\": 0.1}, \"point\": {\"filled\": true, \"opacity\": 1, \"size\": 100}, \"circle\": {\"filled\": true, \"opacity\": 1, \"size\": 100, \"color\": \"#5297AC\"}, \"text\": {\"font\": \"Sanchez\", \"color\": \"#808080\", \"fontSize\": 11, \"align\": \"right\", \"fontWeight\": 400, \"size\": 11}, \"bar\": {\"binSpacing\": 1, \"continuousBandSize\": 30, \"discreteBandSize\": 30, \"fill\": \"#5297AC\", \"stroke\": false}, \"background\": \"#F9F7F3\"}, \"data\": {\"name\": \"data-f2be364a1dd3274da8066449f22ce69d\"}, \"mark\": {\"type\": \"bar\", \"size\": 12}, \"encoding\": {\"color\": {\"type\": \"nominal\", \"field\": \"Sexo\"}, \"x\": {\"type\": \"quantitative\", \"field\": \"Edad al juramentar\"}, \"y\": {\"type\": \"nominal\", \"field\": \"Nombre2\", \"sort\": [\"Guido Bellido (PC)\", \"Violeta Bermudez (FS)\", \"Antero Flores-Araoz (MM)\", \"Walter Martos (MV)\", \"Pedro Cateriano (MV)\", \"Vicente Zeballos (MV)\", \"Salvador del Solar (MV)\", \"Cesar Villanueva (MV)\", \"Mercedes Araoz (PPK)\", \"Fernando Zavala (PPK)\", \"Pedro Cateriano (OH)\", \"Ana Jara (OH)\", \"Rene Cornejo (OH)\", \"Cesar Villanueva (OH)\", \"Juan Jimenez Mayor (OH)\", \"Oscar Valdes (OH)\", \"Salomon Lerner Ghitis (OH)\", \"Rosario Fernandez (AG)\", \"Jose Antonio Chang (AG)\", \"Javier Velasquez Quesquen (AG)\", \"Yehude Simon (AG)\", \"Jorge del Castillo (AG)\", \"Pedro Pablo Kuczynski (AT)\", \"Carlos Ferrero Costa (AT)\", \"Beatriz Merino (AT)\", \"Luis Solari (AT)\", \"Roberto Da\\u00f1ino (AT)\"], \"title\": null}}, \"title\": {\"text\": \"Edad al juramentar como Presidente del Consejo de Ministros\", \"subtitle\": [\"Periodo: 2001-2021. Nombres en orden cronol\\u00f3gico. Las iniciales en par\\u00e9ntesis corresponden al presidente\", \"Fuente: Wikipedia\", \"Elaboracion: desarro.io\"], \"subtitleFont\": \"Sanchez\"}, \"$schema\": \"https://vega.github.io/schema/vega-lite/v4.8.1.json\", \"datasets\": {\"data-f2be364a1dd3274da8066449f22ce69d\": [{\"Nombre\": \"Guido Bellido\", \"Sexo\": \"M\", \"Fecha de nacimiento\": \"1979-08-07T00:00:00\", \"Departamento\": \"Cusco\", \"Fecha de juramentacion\": \"2021-07-27T00:00:00\", \"Edad al juramentar\": 41, \"Fecha final\": \"2021-08-26T00:00:00\", \"Meses en el cargo\": 1.0, \"Nacida/o en Lima?\": \"Fuera de Lima\", \"Presidente\": \"PC\", \"Nombre2\": \"Guido Bellido (PC)\"}, {\"Nombre\": \"Violeta Bermudez\", \"Sexo\": \"F\", \"Fecha de nacimiento\": \"1961-08-12T00:00:00\", \"Departamento\": \"Lima\", \"Fecha de juramentacion\": \"2020-11-18T00:00:00\", \"Edad al juramentar\": 59, \"Fecha final\": \"2021-07-27T00:00:00\", \"Meses en el cargo\": 8.366666666666667, \"Nacida/o en Lima?\": \"En Lima\", \"Presidente\": \"FS\", \"Nombre2\": \"Violeta Bermudez (FS)\"}, {\"Nombre\": \"Antero Flores-Araoz\", \"Sexo\": \"M\", \"Fecha de nacimiento\": \"1942-02-28T00:00:00\", \"Departamento\": \"Lima\", \"Fecha de juramentacion\": \"2020-11-11T00:00:00\", \"Edad al juramentar\": 78, \"Fecha final\": \"2020-11-18T00:00:00\", \"Meses en el cargo\": 0.23333333333333334, \"Nacida/o en Lima?\": \"En Lima\", \"Presidente\": \"MM\", \"Nombre2\": \"Antero Flores-Araoz (MM)\"}, {\"Nombre\": \"Walter Martos\", \"Sexo\": \"M\", \"Fecha de nacimiento\": \"1957-02-11T00:00:00\", \"Departamento\": \"Cajamarca\", \"Fecha de juramentacion\": \"2020-08-06T00:00:00\", \"Edad al juramentar\": 63, \"Fecha final\": \"2020-11-11T00:00:00\", \"Meses en el cargo\": 3.2333333333333334, \"Nacida/o en Lima?\": \"Fuera de Lima\", \"Presidente\": \"MV\", \"Nombre2\": \"Walter Martos (MV)\"}, {\"Nombre\": \"Pedro Cateriano\", \"Sexo\": \"M\", \"Fecha de nacimiento\": \"1958-06-26T00:00:00\", \"Departamento\": \"Lima\", \"Fecha de juramentacion\": \"2020-07-15T00:00:00\", \"Edad al juramentar\": 62, \"Fecha final\": \"2020-08-06T00:00:00\", \"Meses en el cargo\": 0.7333333333333333, \"Nacida/o en Lima?\": \"En Lima\", \"Presidente\": \"MV\", \"Nombre2\": \"Pedro Cateriano (MV)\"}, {\"Nombre\": \"Vicente Zeballos\", \"Sexo\": \"M\", \"Fecha de nacimiento\": \"1963-05-10T00:00:00\", \"Departamento\": \"Tacna\", \"Fecha de juramentacion\": \"2019-09-30T00:00:00\", \"Edad al juramentar\": 56, \"Fecha final\": \"2020-07-15T00:00:00\", \"Meses en el cargo\": 9.633333333333333, \"Nacida/o en Lima?\": \"Fuera de Lima\", \"Presidente\": \"MV\", \"Nombre2\": \"Vicente Zeballos (MV)\"}, {\"Nombre\": \"Salvador del Solar\", \"Sexo\": \"M\", \"Fecha de nacimiento\": \"1970-05-01T00:00:00\", \"Departamento\": \"Lima\", \"Fecha de juramentacion\": \"2019-03-11T00:00:00\", \"Edad al juramentar\": 48, \"Fecha final\": \"2019-09-30T00:00:00\", \"Meses en el cargo\": 6.766666666666667, \"Nacida/o en Lima?\": \"En Lima\", \"Presidente\": \"MV\", \"Nombre2\": \"Salvador del Solar (MV)\"}, {\"Nombre\": \"Cesar Villanueva\", \"Sexo\": \"M\", \"Fecha de nacimiento\": \"1946-08-05T00:00:00\", \"Departamento\": \"San Martin\", \"Fecha de juramentacion\": \"2018-04-02T00:00:00\", \"Edad al juramentar\": 71, \"Fecha final\": \"2019-03-11T00:00:00\", \"Meses en el cargo\": 11.433333333333334, \"Nacida/o en Lima?\": \"Fuera de Lima\", \"Presidente\": \"MV\", \"Nombre2\": \"Cesar Villanueva (MV)\"}, {\"Nombre\": \"Mercedes Araoz\", \"Sexo\": \"F\", \"Fecha de nacimiento\": \"1961-08-05T00:00:00\", \"Departamento\": \"Lima\", \"Fecha de juramentacion\": \"2017-09-17T00:00:00\", \"Edad al juramentar\": 56, \"Fecha final\": \"2018-04-02T00:00:00\", \"Meses en el cargo\": 6.566666666666666, \"Nacida/o en Lima?\": \"En Lima\", \"Presidente\": \"PPK\", \"Nombre2\": \"Mercedes Araoz (PPK)\"}, {\"Nombre\": \"Fernando Zavala\", \"Sexo\": \"M\", \"Fecha de nacimiento\": \"1971-02-19T00:00:00\", \"Departamento\": \"Tacna\", \"Fecha de juramentacion\": \"2016-07-28T00:00:00\", \"Edad al juramentar\": 45, \"Fecha final\": \"2017-09-17T00:00:00\", \"Meses en el cargo\": 13.866666666666667, \"Nacida/o en Lima?\": \"Fuera de Lima\", \"Presidente\": \"PPK\", \"Nombre2\": \"Fernando Zavala (PPK)\"}, {\"Nombre\": \"Pedro Cateriano\", \"Sexo\": \"M\", \"Fecha de nacimiento\": \"1958-06-26T00:00:00\", \"Departamento\": \"Lima\", \"Fecha de juramentacion\": \"2015-04-02T00:00:00\", \"Edad al juramentar\": 56, \"Fecha final\": \"2016-07-28T00:00:00\", \"Meses en el cargo\": 16.1, \"Nacida/o en Lima?\": \"En Lima\", \"Presidente\": \"OH\", \"Nombre2\": \"Pedro Cateriano (OH)\"}, {\"Nombre\": \"Ana Jara\", \"Sexo\": \"F\", \"Fecha de nacimiento\": \"1968-05-11T00:00:00\", \"Departamento\": \"Ica\", \"Fecha de juramentacion\": \"2014-07-22T00:00:00\", \"Edad al juramentar\": 46, \"Fecha final\": \"2015-04-02T00:00:00\", \"Meses en el cargo\": 8.466666666666667, \"Nacida/o en Lima?\": \"Fuera de Lima\", \"Presidente\": \"OH\", \"Nombre2\": \"Ana Jara (OH)\"}, {\"Nombre\": \"Rene Cornejo\", \"Sexo\": \"M\", \"Fecha de nacimiento\": \"1962-01-06T00:00:00\", \"Departamento\": \"Arequipa\", \"Fecha de juramentacion\": \"2014-02-24T00:00:00\", \"Edad al juramentar\": 52, \"Fecha final\": \"2014-07-22T00:00:00\", \"Meses en el cargo\": 4.933333333333334, \"Nacida/o en Lima?\": \"Fuera de Lima\", \"Presidente\": \"OH\", \"Nombre2\": \"Rene Cornejo (OH)\"}, {\"Nombre\": \"Cesar Villanueva\", \"Sexo\": \"M\", \"Fecha de nacimiento\": \"1946-08-05T00:00:00\", \"Departamento\": \"San Martin\", \"Fecha de juramentacion\": \"2013-10-31T00:00:00\", \"Edad al juramentar\": 67, \"Fecha final\": \"2014-02-24T00:00:00\", \"Meses en el cargo\": 3.8666666666666667, \"Nacida/o en Lima?\": \"Fuera de Lima\", \"Presidente\": \"OH\", \"Nombre2\": \"Cesar Villanueva (OH)\"}, {\"Nombre\": \"Juan Jimenez Mayor\", \"Sexo\": \"M\", \"Fecha de nacimiento\": \"1964-08-05T00:00:00\", \"Departamento\": \"Lima\", \"Fecha de juramentacion\": \"2012-07-23T00:00:00\", \"Edad al juramentar\": 47, \"Fecha final\": \"2013-10-31T00:00:00\", \"Meses en el cargo\": 15.5, \"Nacida/o en Lima?\": \"En Lima\", \"Presidente\": \"OH\", \"Nombre2\": \"Juan Jimenez Mayor (OH)\"}, {\"Nombre\": \"Oscar Valdes\", \"Sexo\": \"M\", \"Fecha de nacimiento\": \"1949-04-03T00:00:00\", \"Departamento\": \"Tacna\", \"Fecha de juramentacion\": \"2011-12-11T00:00:00\", \"Edad al juramentar\": 62, \"Fecha final\": \"2012-07-23T00:00:00\", \"Meses en el cargo\": 7.5, \"Nacida/o en Lima?\": \"Fuera de Lima\", \"Presidente\": \"OH\", \"Nombre2\": \"Oscar Valdes (OH)\"}, {\"Nombre\": \"Salomon Lerner Ghitis\", \"Sexo\": \"M\", \"Fecha de nacimiento\": \"1946-02-04T00:00:00\", \"Departamento\": \"Lima\", \"Fecha de juramentacion\": \"2011-07-28T00:00:00\", \"Edad al juramentar\": 65, \"Fecha final\": \"2011-12-11T00:00:00\", \"Meses en el cargo\": 4.533333333333333, \"Nacida/o en Lima?\": \"En Lima\", \"Presidente\": \"OH\", \"Nombre2\": \"Salomon Lerner Ghitis (OH)\"}, {\"Nombre\": \"Rosario Fernandez\", \"Sexo\": \"F\", \"Fecha de nacimiento\": \"1955-11-09T00:00:00\", \"Departamento\": \"Lima\", \"Fecha de juramentacion\": \"2011-03-19T00:00:00\", \"Edad al juramentar\": 55, \"Fecha final\": \"2011-07-28T00:00:00\", \"Meses en el cargo\": 4.366666666666666, \"Nacida/o en Lima?\": \"En Lima\", \"Presidente\": \"AG\", \"Nombre2\": \"Rosario Fernandez (AG)\"}, {\"Nombre\": \"Jose Antonio Chang\", \"Sexo\": \"M\", \"Fecha de nacimiento\": \"1958-05-19T00:00:00\", \"Departamento\": \"Lima\", \"Fecha de juramentacion\": \"2010-09-14T00:00:00\", \"Edad al juramentar\": 52, \"Fecha final\": \"2011-03-19T00:00:00\", \"Meses en el cargo\": 6.2, \"Nacida/o en Lima?\": \"En Lima\", \"Presidente\": \"AG\", \"Nombre2\": \"Jose Antonio Chang (AG)\"}, {\"Nombre\": \"Javier Velasquez Quesquen\", \"Sexo\": \"M\", \"Fecha de nacimiento\": \"1960-03-12T00:00:00\", \"Departamento\": \"Lambayeque\", \"Fecha de juramentacion\": \"2009-07-11T00:00:00\", \"Edad al juramentar\": 49, \"Fecha final\": \"2010-09-14T00:00:00\", \"Meses en el cargo\": 14.333333333333334, \"Nacida/o en Lima?\": \"Fuera de Lima\", \"Presidente\": \"AG\", \"Nombre2\": \"Javier Velasquez Quesquen (AG)\"}, {\"Nombre\": \"Yehude Simon\", \"Sexo\": \"M\", \"Fecha de nacimiento\": \"1947-07-18T00:00:00\", \"Departamento\": \"Lima\", \"Fecha de juramentacion\": \"2008-10-14T00:00:00\", \"Edad al juramentar\": 61, \"Fecha final\": \"2009-07-11T00:00:00\", \"Meses en el cargo\": 9.0, \"Nacida/o en Lima?\": \"En Lima\", \"Presidente\": \"AG\", \"Nombre2\": \"Yehude Simon (AG)\"}, {\"Nombre\": \"Jorge del Castillo\", \"Sexo\": \"M\", \"Fecha de nacimiento\": \"1950-07-02T00:00:00\", \"Departamento\": \"Lima\", \"Fecha de juramentacion\": \"2006-07-28T00:00:00\", \"Edad al juramentar\": 56, \"Fecha final\": \"2008-10-14T00:00:00\", \"Meses en el cargo\": 26.966666666666665, \"Nacida/o en Lima?\": \"En Lima\", \"Presidente\": \"AG\", \"Nombre2\": \"Jorge del Castillo (AG)\"}, {\"Nombre\": \"Pedro Pablo Kuczynski\", \"Sexo\": \"M\", \"Fecha de nacimiento\": \"1938-10-03T00:00:00\", \"Departamento\": \"Lima\", \"Fecha de juramentacion\": \"2005-08-16T00:00:00\", \"Edad al juramentar\": 66, \"Fecha final\": \"2006-07-28T00:00:00\", \"Meses en el cargo\": 11.533333333333333, \"Nacida/o en Lima?\": \"En Lima\", \"Presidente\": \"AT\", \"Nombre2\": \"Pedro Pablo Kuczynski (AT)\"}, {\"Nombre\": \"Carlos Ferrero Costa\", \"Sexo\": \"M\", \"Fecha de nacimiento\": \"1941-02-07T00:00:00\", \"Departamento\": \"Lima\", \"Fecha de juramentacion\": \"2003-12-15T00:00:00\", \"Edad al juramentar\": 62, \"Fecha final\": \"2005-08-16T00:00:00\", \"Meses en el cargo\": 20.333333333333332, \"Nacida/o en Lima?\": \"En Lima\", \"Presidente\": \"AT\", \"Nombre2\": \"Carlos Ferrero Costa (AT)\"}, {\"Nombre\": \"Beatriz Merino\", \"Sexo\": \"F\", \"Fecha de nacimiento\": \"1947-11-15T00:00:00\", \"Departamento\": \"Lima\", \"Fecha de juramentacion\": \"2003-06-23T00:00:00\", \"Edad al juramentar\": 55, \"Fecha final\": \"2003-12-15T00:00:00\", \"Meses en el cargo\": 5.833333333333333, \"Nacida/o en Lima?\": \"En Lima\", \"Presidente\": \"AT\", \"Nombre2\": \"Beatriz Merino (AT)\"}, {\"Nombre\": \"Luis Solari\", \"Sexo\": \"M\", \"Fecha de nacimiento\": \"1948-01-28T00:00:00\", \"Departamento\": \"Lima\", \"Fecha de juramentacion\": \"2002-07-12T00:00:00\", \"Edad al juramentar\": 54, \"Fecha final\": \"2003-06-23T00:00:00\", \"Meses en el cargo\": 11.533333333333333, \"Nacida/o en Lima?\": \"En Lima\", \"Presidente\": \"AT\", \"Nombre2\": \"Luis Solari (AT)\"}, {\"Nombre\": \"Roberto Da\\u00f1ino\", \"Sexo\": \"M\", \"Fecha de nacimiento\": \"1951-03-02T00:00:00\", \"Departamento\": \"Lima\", \"Fecha de juramentacion\": \"2001-07-28T00:00:00\", \"Edad al juramentar\": 50, \"Fecha final\": \"2002-07-12T00:00:00\", \"Meses en el cargo\": 11.633333333333333, \"Nacida/o en Lima?\": \"En Lima\", \"Presidente\": \"AT\", \"Nombre2\": \"Roberto Da\\u00f1ino (AT)\"}]}}, {\"mode\": \"vega-lite\"});\n",
       "</script>"
      ],
      "text/plain": [
       "alt.Chart(...)"
      ]
     },
     "execution_count": 8,
     "metadata": {},
     "output_type": "execute_result"
    }
   ],
   "source": [
    "vis = alt.Chart(df).mark_bar(size=12).encode(\n",
    "    y = alt.Y('Nombre2:N',\n",
    "              sort=list(df['Nombre2']),\n",
    "              title=None),\n",
    "    x = alt.X('Edad al juramentar:Q'),\n",
    "    color = 'Sexo:N',\n",
    "    #row = 'Departamento'\n",
    ").properties(\n",
    "    title={\n",
    "        'text': 'Edad al juramentar como Presidente del Consejo de Ministros',\n",
    "        'subtitle': ['Periodo: 2001-2021. Nombres en orden cronológico. Las iniciales en paréntesis corresponden al presidente',\n",
    "                     'Fuente: Wikipedia',\n",
    "                     'Elaboracion: desarro.io'],\n",
    "        \"subtitleFont\": \"Sanchez\",\n",
    "    },\n",
    "    width = 500,\n",
    "    height = 500\n",
    ")\n",
    "vis"
   ]
  },
  {
   "cell_type": "code",
   "execution_count": 9,
   "metadata": {},
   "outputs": [
    {
     "data": {
      "text/html": [
       "\n",
       "<div id=\"altair-viz-53050686c75f4e4bbcb0ce854db8d3d8\"></div>\n",
       "<script type=\"text/javascript\">\n",
       "  (function(spec, embedOpt){\n",
       "    let outputDiv = document.currentScript.previousElementSibling;\n",
       "    if (outputDiv.id !== \"altair-viz-53050686c75f4e4bbcb0ce854db8d3d8\") {\n",
       "      outputDiv = document.getElementById(\"altair-viz-53050686c75f4e4bbcb0ce854db8d3d8\");\n",
       "    }\n",
       "    const paths = {\n",
       "      \"vega\": \"https://cdn.jsdelivr.net/npm//vega@5?noext\",\n",
       "      \"vega-lib\": \"https://cdn.jsdelivr.net/npm//vega-lib?noext\",\n",
       "      \"vega-lite\": \"https://cdn.jsdelivr.net/npm//vega-lite@4.8.1?noext\",\n",
       "      \"vega-embed\": \"https://cdn.jsdelivr.net/npm//vega-embed@6?noext\",\n",
       "    };\n",
       "\n",
       "    function loadScript(lib) {\n",
       "      return new Promise(function(resolve, reject) {\n",
       "        var s = document.createElement('script');\n",
       "        s.src = paths[lib];\n",
       "        s.async = true;\n",
       "        s.onload = () => resolve(paths[lib]);\n",
       "        s.onerror = () => reject(`Error loading script: ${paths[lib]}`);\n",
       "        document.getElementsByTagName(\"head\")[0].appendChild(s);\n",
       "      });\n",
       "    }\n",
       "\n",
       "    function showError(err) {\n",
       "      outputDiv.innerHTML = `<div class=\"error\" style=\"color:red;\">${err}</div>`;\n",
       "      throw err;\n",
       "    }\n",
       "\n",
       "    function displayChart(vegaEmbed) {\n",
       "      vegaEmbed(outputDiv, spec, embedOpt)\n",
       "        .catch(err => showError(`Javascript Error: ${err.message}<br>This usually means there's a typo in your chart specification. See the javascript console for the full traceback.`));\n",
       "    }\n",
       "\n",
       "    if(typeof define === \"function\" && define.amd) {\n",
       "      requirejs.config({paths});\n",
       "      require([\"vega-embed\"], displayChart, err => showError(`Error loading script: ${err.message}`));\n",
       "    } else if (typeof vegaEmbed === \"function\") {\n",
       "      displayChart(vegaEmbed);\n",
       "    } else {\n",
       "      loadScript(\"vega\")\n",
       "        .then(() => loadScript(\"vega-lite\"))\n",
       "        .then(() => loadScript(\"vega-embed\"))\n",
       "        .catch(showError)\n",
       "        .then(() => displayChart(vegaEmbed));\n",
       "    }\n",
       "  })({\"width\": 500, \"height\": 500, \"config\": {\"title\": {\"font\": \"Sanchez\", \"fontSize\": 18, \"fontWeight\": 600, \"fontColor\": \"#000000\", \"offset\": 24, \"anchor\": \"start\"}, \"axisX\": {\"labelFont\": \"Sanchez\", \"titleFont\": \"Sanchez\", \"domainColor\": \"#000000\", \"grid\": false, \"domain\": true}, \"axisY\": {\"labelFont\": \"Sanchez\", \"titleFont\": \"Sanchez\", \"domainColor\": \"#000000\", \"domain\": true}, \"header\": {\"labelFont\": \"Sanchez\", \"titleFont\": \"Sanchez\"}, \"range\": {\"category\": [\"#5297AC\", \"#ac6e69\", \"#4ba479\", \"#e2a920\", \"#BAA6A5\", \"#A6C6C1\", \"#55b748\", \"#5c5859\", \"#db2b27\"], \"diverging\": [\"#cfe8f3\", \"#a2d4ec\", \"#73bfe2\", \"#46abdb\", \"#1696d2\", \"#12719e\"]}, \"view\": {\"stroke\": \"transparent\"}, \"legend\": {\"labelFont\": \"Sanchez\", \"titleFont\": \"Sanchez\", \"symbolType\": \"circle\", \"padding\": 1}, \"area\": {\"fill\": \"#5297AC\"}, \"line\": {\"color\": \"#5297AC\", \"stroke\": \"#5297AC\", \"strokeWidth\": 4}, \"trail\": {\"color\": \"#ff0800\", \"stroke\": \"#ff0800\", \"strokeWidth\": 100, \"size\": 50}, \"path\": {\"stroke\": \"#ff0800\", \"strokeWidth\": 0.1}, \"point\": {\"filled\": true, \"opacity\": 1, \"size\": 100}, \"circle\": {\"filled\": true, \"opacity\": 1, \"size\": 100, \"color\": \"#5297AC\"}, \"text\": {\"font\": \"Sanchez\", \"color\": \"#808080\", \"fontSize\": 11, \"align\": \"right\", \"fontWeight\": 400, \"size\": 11}, \"bar\": {\"binSpacing\": 1, \"continuousBandSize\": 30, \"discreteBandSize\": 30, \"fill\": \"#5297AC\", \"stroke\": false}, \"background\": \"#F9F7F3\"}, \"data\": {\"name\": \"data-f2be364a1dd3274da8066449f22ce69d\"}, \"mark\": {\"type\": \"bar\", \"size\": 12}, \"encoding\": {\"color\": {\"type\": \"nominal\", \"field\": \"Nacida/o en Lima?\"}, \"x\": {\"type\": \"quantitative\", \"field\": \"Edad al juramentar\"}, \"y\": {\"type\": \"nominal\", \"field\": \"Nombre2\", \"sort\": [\"Guido Bellido (PC)\", \"Violeta Bermudez (FS)\", \"Antero Flores-Araoz (MM)\", \"Walter Martos (MV)\", \"Pedro Cateriano (MV)\", \"Vicente Zeballos (MV)\", \"Salvador del Solar (MV)\", \"Cesar Villanueva (MV)\", \"Mercedes Araoz (PPK)\", \"Fernando Zavala (PPK)\", \"Pedro Cateriano (OH)\", \"Ana Jara (OH)\", \"Rene Cornejo (OH)\", \"Cesar Villanueva (OH)\", \"Juan Jimenez Mayor (OH)\", \"Oscar Valdes (OH)\", \"Salomon Lerner Ghitis (OH)\", \"Rosario Fernandez (AG)\", \"Jose Antonio Chang (AG)\", \"Javier Velasquez Quesquen (AG)\", \"Yehude Simon (AG)\", \"Jorge del Castillo (AG)\", \"Pedro Pablo Kuczynski (AT)\", \"Carlos Ferrero Costa (AT)\", \"Beatriz Merino (AT)\", \"Luis Solari (AT)\", \"Roberto Da\\u00f1ino (AT)\"], \"title\": null}}, \"title\": {\"text\": \"Edad al juramentar como Presidente del Consejo de Ministros\", \"subtitle\": [\"Periodo: 2001-2021. Nombres en orden cronol\\u00f3gico. Las iniciales en par\\u00e9ntesis corresponden al presidente\", \"Fuente: Wikipedia\", \"Elaboracion: desarro.io\"], \"subtitleFont\": \"Sanchez\"}, \"$schema\": \"https://vega.github.io/schema/vega-lite/v4.8.1.json\", \"datasets\": {\"data-f2be364a1dd3274da8066449f22ce69d\": [{\"Nombre\": \"Guido Bellido\", \"Sexo\": \"M\", \"Fecha de nacimiento\": \"1979-08-07T00:00:00\", \"Departamento\": \"Cusco\", \"Fecha de juramentacion\": \"2021-07-27T00:00:00\", \"Edad al juramentar\": 41, \"Fecha final\": \"2021-08-26T00:00:00\", \"Meses en el cargo\": 1.0, \"Nacida/o en Lima?\": \"Fuera de Lima\", \"Presidente\": \"PC\", \"Nombre2\": \"Guido Bellido (PC)\"}, {\"Nombre\": \"Violeta Bermudez\", \"Sexo\": \"F\", \"Fecha de nacimiento\": \"1961-08-12T00:00:00\", \"Departamento\": \"Lima\", \"Fecha de juramentacion\": \"2020-11-18T00:00:00\", \"Edad al juramentar\": 59, \"Fecha final\": \"2021-07-27T00:00:00\", \"Meses en el cargo\": 8.366666666666667, \"Nacida/o en Lima?\": \"En Lima\", \"Presidente\": \"FS\", \"Nombre2\": \"Violeta Bermudez (FS)\"}, {\"Nombre\": \"Antero Flores-Araoz\", \"Sexo\": \"M\", \"Fecha de nacimiento\": \"1942-02-28T00:00:00\", \"Departamento\": \"Lima\", \"Fecha de juramentacion\": \"2020-11-11T00:00:00\", \"Edad al juramentar\": 78, \"Fecha final\": \"2020-11-18T00:00:00\", \"Meses en el cargo\": 0.23333333333333334, \"Nacida/o en Lima?\": \"En Lima\", \"Presidente\": \"MM\", \"Nombre2\": \"Antero Flores-Araoz (MM)\"}, {\"Nombre\": \"Walter Martos\", \"Sexo\": \"M\", \"Fecha de nacimiento\": \"1957-02-11T00:00:00\", \"Departamento\": \"Cajamarca\", \"Fecha de juramentacion\": \"2020-08-06T00:00:00\", \"Edad al juramentar\": 63, \"Fecha final\": \"2020-11-11T00:00:00\", \"Meses en el cargo\": 3.2333333333333334, \"Nacida/o en Lima?\": \"Fuera de Lima\", \"Presidente\": \"MV\", \"Nombre2\": \"Walter Martos (MV)\"}, {\"Nombre\": \"Pedro Cateriano\", \"Sexo\": \"M\", \"Fecha de nacimiento\": \"1958-06-26T00:00:00\", \"Departamento\": \"Lima\", \"Fecha de juramentacion\": \"2020-07-15T00:00:00\", \"Edad al juramentar\": 62, \"Fecha final\": \"2020-08-06T00:00:00\", \"Meses en el cargo\": 0.7333333333333333, \"Nacida/o en Lima?\": \"En Lima\", \"Presidente\": \"MV\", \"Nombre2\": \"Pedro Cateriano (MV)\"}, {\"Nombre\": \"Vicente Zeballos\", \"Sexo\": \"M\", \"Fecha de nacimiento\": \"1963-05-10T00:00:00\", \"Departamento\": \"Tacna\", \"Fecha de juramentacion\": \"2019-09-30T00:00:00\", \"Edad al juramentar\": 56, \"Fecha final\": \"2020-07-15T00:00:00\", \"Meses en el cargo\": 9.633333333333333, \"Nacida/o en Lima?\": \"Fuera de Lima\", \"Presidente\": \"MV\", \"Nombre2\": \"Vicente Zeballos (MV)\"}, {\"Nombre\": \"Salvador del Solar\", \"Sexo\": \"M\", \"Fecha de nacimiento\": \"1970-05-01T00:00:00\", \"Departamento\": \"Lima\", \"Fecha de juramentacion\": \"2019-03-11T00:00:00\", \"Edad al juramentar\": 48, \"Fecha final\": \"2019-09-30T00:00:00\", \"Meses en el cargo\": 6.766666666666667, \"Nacida/o en Lima?\": \"En Lima\", \"Presidente\": \"MV\", \"Nombre2\": \"Salvador del Solar (MV)\"}, {\"Nombre\": \"Cesar Villanueva\", \"Sexo\": \"M\", \"Fecha de nacimiento\": \"1946-08-05T00:00:00\", \"Departamento\": \"San Martin\", \"Fecha de juramentacion\": \"2018-04-02T00:00:00\", \"Edad al juramentar\": 71, \"Fecha final\": \"2019-03-11T00:00:00\", \"Meses en el cargo\": 11.433333333333334, \"Nacida/o en Lima?\": \"Fuera de Lima\", \"Presidente\": \"MV\", \"Nombre2\": \"Cesar Villanueva (MV)\"}, {\"Nombre\": \"Mercedes Araoz\", \"Sexo\": \"F\", \"Fecha de nacimiento\": \"1961-08-05T00:00:00\", \"Departamento\": \"Lima\", \"Fecha de juramentacion\": \"2017-09-17T00:00:00\", \"Edad al juramentar\": 56, \"Fecha final\": \"2018-04-02T00:00:00\", \"Meses en el cargo\": 6.566666666666666, \"Nacida/o en Lima?\": \"En Lima\", \"Presidente\": \"PPK\", \"Nombre2\": \"Mercedes Araoz (PPK)\"}, {\"Nombre\": \"Fernando Zavala\", \"Sexo\": \"M\", \"Fecha de nacimiento\": \"1971-02-19T00:00:00\", \"Departamento\": \"Tacna\", \"Fecha de juramentacion\": \"2016-07-28T00:00:00\", \"Edad al juramentar\": 45, \"Fecha final\": \"2017-09-17T00:00:00\", \"Meses en el cargo\": 13.866666666666667, \"Nacida/o en Lima?\": \"Fuera de Lima\", \"Presidente\": \"PPK\", \"Nombre2\": \"Fernando Zavala (PPK)\"}, {\"Nombre\": \"Pedro Cateriano\", \"Sexo\": \"M\", \"Fecha de nacimiento\": \"1958-06-26T00:00:00\", \"Departamento\": \"Lima\", \"Fecha de juramentacion\": \"2015-04-02T00:00:00\", \"Edad al juramentar\": 56, \"Fecha final\": \"2016-07-28T00:00:00\", \"Meses en el cargo\": 16.1, \"Nacida/o en Lima?\": \"En Lima\", \"Presidente\": \"OH\", \"Nombre2\": \"Pedro Cateriano (OH)\"}, {\"Nombre\": \"Ana Jara\", \"Sexo\": \"F\", \"Fecha de nacimiento\": \"1968-05-11T00:00:00\", \"Departamento\": \"Ica\", \"Fecha de juramentacion\": \"2014-07-22T00:00:00\", \"Edad al juramentar\": 46, \"Fecha final\": \"2015-04-02T00:00:00\", \"Meses en el cargo\": 8.466666666666667, \"Nacida/o en Lima?\": \"Fuera de Lima\", \"Presidente\": \"OH\", \"Nombre2\": \"Ana Jara (OH)\"}, {\"Nombre\": \"Rene Cornejo\", \"Sexo\": \"M\", \"Fecha de nacimiento\": \"1962-01-06T00:00:00\", \"Departamento\": \"Arequipa\", \"Fecha de juramentacion\": \"2014-02-24T00:00:00\", \"Edad al juramentar\": 52, \"Fecha final\": \"2014-07-22T00:00:00\", \"Meses en el cargo\": 4.933333333333334, \"Nacida/o en Lima?\": \"Fuera de Lima\", \"Presidente\": \"OH\", \"Nombre2\": \"Rene Cornejo (OH)\"}, {\"Nombre\": \"Cesar Villanueva\", \"Sexo\": \"M\", \"Fecha de nacimiento\": \"1946-08-05T00:00:00\", \"Departamento\": \"San Martin\", \"Fecha de juramentacion\": \"2013-10-31T00:00:00\", \"Edad al juramentar\": 67, \"Fecha final\": \"2014-02-24T00:00:00\", \"Meses en el cargo\": 3.8666666666666667, \"Nacida/o en Lima?\": \"Fuera de Lima\", \"Presidente\": \"OH\", \"Nombre2\": \"Cesar Villanueva (OH)\"}, {\"Nombre\": \"Juan Jimenez Mayor\", \"Sexo\": \"M\", \"Fecha de nacimiento\": \"1964-08-05T00:00:00\", \"Departamento\": \"Lima\", \"Fecha de juramentacion\": \"2012-07-23T00:00:00\", \"Edad al juramentar\": 47, \"Fecha final\": \"2013-10-31T00:00:00\", \"Meses en el cargo\": 15.5, \"Nacida/o en Lima?\": \"En Lima\", \"Presidente\": \"OH\", \"Nombre2\": \"Juan Jimenez Mayor (OH)\"}, {\"Nombre\": \"Oscar Valdes\", \"Sexo\": \"M\", \"Fecha de nacimiento\": \"1949-04-03T00:00:00\", \"Departamento\": \"Tacna\", \"Fecha de juramentacion\": \"2011-12-11T00:00:00\", \"Edad al juramentar\": 62, \"Fecha final\": \"2012-07-23T00:00:00\", \"Meses en el cargo\": 7.5, \"Nacida/o en Lima?\": \"Fuera de Lima\", \"Presidente\": \"OH\", \"Nombre2\": \"Oscar Valdes (OH)\"}, {\"Nombre\": \"Salomon Lerner Ghitis\", \"Sexo\": \"M\", \"Fecha de nacimiento\": \"1946-02-04T00:00:00\", \"Departamento\": \"Lima\", \"Fecha de juramentacion\": \"2011-07-28T00:00:00\", \"Edad al juramentar\": 65, \"Fecha final\": \"2011-12-11T00:00:00\", \"Meses en el cargo\": 4.533333333333333, \"Nacida/o en Lima?\": \"En Lima\", \"Presidente\": \"OH\", \"Nombre2\": \"Salomon Lerner Ghitis (OH)\"}, {\"Nombre\": \"Rosario Fernandez\", \"Sexo\": \"F\", \"Fecha de nacimiento\": \"1955-11-09T00:00:00\", \"Departamento\": \"Lima\", \"Fecha de juramentacion\": \"2011-03-19T00:00:00\", \"Edad al juramentar\": 55, \"Fecha final\": \"2011-07-28T00:00:00\", \"Meses en el cargo\": 4.366666666666666, \"Nacida/o en Lima?\": \"En Lima\", \"Presidente\": \"AG\", \"Nombre2\": \"Rosario Fernandez (AG)\"}, {\"Nombre\": \"Jose Antonio Chang\", \"Sexo\": \"M\", \"Fecha de nacimiento\": \"1958-05-19T00:00:00\", \"Departamento\": \"Lima\", \"Fecha de juramentacion\": \"2010-09-14T00:00:00\", \"Edad al juramentar\": 52, \"Fecha final\": \"2011-03-19T00:00:00\", \"Meses en el cargo\": 6.2, \"Nacida/o en Lima?\": \"En Lima\", \"Presidente\": \"AG\", \"Nombre2\": \"Jose Antonio Chang (AG)\"}, {\"Nombre\": \"Javier Velasquez Quesquen\", \"Sexo\": \"M\", \"Fecha de nacimiento\": \"1960-03-12T00:00:00\", \"Departamento\": \"Lambayeque\", \"Fecha de juramentacion\": \"2009-07-11T00:00:00\", \"Edad al juramentar\": 49, \"Fecha final\": \"2010-09-14T00:00:00\", \"Meses en el cargo\": 14.333333333333334, \"Nacida/o en Lima?\": \"Fuera de Lima\", \"Presidente\": \"AG\", \"Nombre2\": \"Javier Velasquez Quesquen (AG)\"}, {\"Nombre\": \"Yehude Simon\", \"Sexo\": \"M\", \"Fecha de nacimiento\": \"1947-07-18T00:00:00\", \"Departamento\": \"Lima\", \"Fecha de juramentacion\": \"2008-10-14T00:00:00\", \"Edad al juramentar\": 61, \"Fecha final\": \"2009-07-11T00:00:00\", \"Meses en el cargo\": 9.0, \"Nacida/o en Lima?\": \"En Lima\", \"Presidente\": \"AG\", \"Nombre2\": \"Yehude Simon (AG)\"}, {\"Nombre\": \"Jorge del Castillo\", \"Sexo\": \"M\", \"Fecha de nacimiento\": \"1950-07-02T00:00:00\", \"Departamento\": \"Lima\", \"Fecha de juramentacion\": \"2006-07-28T00:00:00\", \"Edad al juramentar\": 56, \"Fecha final\": \"2008-10-14T00:00:00\", \"Meses en el cargo\": 26.966666666666665, \"Nacida/o en Lima?\": \"En Lima\", \"Presidente\": \"AG\", \"Nombre2\": \"Jorge del Castillo (AG)\"}, {\"Nombre\": \"Pedro Pablo Kuczynski\", \"Sexo\": \"M\", \"Fecha de nacimiento\": \"1938-10-03T00:00:00\", \"Departamento\": \"Lima\", \"Fecha de juramentacion\": \"2005-08-16T00:00:00\", \"Edad al juramentar\": 66, \"Fecha final\": \"2006-07-28T00:00:00\", \"Meses en el cargo\": 11.533333333333333, \"Nacida/o en Lima?\": \"En Lima\", \"Presidente\": \"AT\", \"Nombre2\": \"Pedro Pablo Kuczynski (AT)\"}, {\"Nombre\": \"Carlos Ferrero Costa\", \"Sexo\": \"M\", \"Fecha de nacimiento\": \"1941-02-07T00:00:00\", \"Departamento\": \"Lima\", \"Fecha de juramentacion\": \"2003-12-15T00:00:00\", \"Edad al juramentar\": 62, \"Fecha final\": \"2005-08-16T00:00:00\", \"Meses en el cargo\": 20.333333333333332, \"Nacida/o en Lima?\": \"En Lima\", \"Presidente\": \"AT\", \"Nombre2\": \"Carlos Ferrero Costa (AT)\"}, {\"Nombre\": \"Beatriz Merino\", \"Sexo\": \"F\", \"Fecha de nacimiento\": \"1947-11-15T00:00:00\", \"Departamento\": \"Lima\", \"Fecha de juramentacion\": \"2003-06-23T00:00:00\", \"Edad al juramentar\": 55, \"Fecha final\": \"2003-12-15T00:00:00\", \"Meses en el cargo\": 5.833333333333333, \"Nacida/o en Lima?\": \"En Lima\", \"Presidente\": \"AT\", \"Nombre2\": \"Beatriz Merino (AT)\"}, {\"Nombre\": \"Luis Solari\", \"Sexo\": \"M\", \"Fecha de nacimiento\": \"1948-01-28T00:00:00\", \"Departamento\": \"Lima\", \"Fecha de juramentacion\": \"2002-07-12T00:00:00\", \"Edad al juramentar\": 54, \"Fecha final\": \"2003-06-23T00:00:00\", \"Meses en el cargo\": 11.533333333333333, \"Nacida/o en Lima?\": \"En Lima\", \"Presidente\": \"AT\", \"Nombre2\": \"Luis Solari (AT)\"}, {\"Nombre\": \"Roberto Da\\u00f1ino\", \"Sexo\": \"M\", \"Fecha de nacimiento\": \"1951-03-02T00:00:00\", \"Departamento\": \"Lima\", \"Fecha de juramentacion\": \"2001-07-28T00:00:00\", \"Edad al juramentar\": 50, \"Fecha final\": \"2002-07-12T00:00:00\", \"Meses en el cargo\": 11.633333333333333, \"Nacida/o en Lima?\": \"En Lima\", \"Presidente\": \"AT\", \"Nombre2\": \"Roberto Da\\u00f1ino (AT)\"}]}}, {\"mode\": \"vega-lite\"});\n",
       "</script>"
      ],
      "text/plain": [
       "alt.Chart(...)"
      ]
     },
     "execution_count": 9,
     "metadata": {},
     "output_type": "execute_result"
    }
   ],
   "source": [
    "vis = alt.Chart(df).mark_bar(size=12).encode(\n",
    "    y = alt.Y('Nombre2:N',\n",
    "              sort=list(df['Nombre2']),\n",
    "              title=None),\n",
    "    x = alt.X('Edad al juramentar:Q'),\n",
    "    color = 'Nacida/o en Lima?:N',\n",
    "    #row = 'Departamento'\n",
    ").properties(\n",
    "    title={\n",
    "        'text': 'Edad al juramentar como Presidente del Consejo de Ministros',\n",
    "        'subtitle': ['Periodo: 2001-2021. Nombres en orden cronológico. Las iniciales en paréntesis corresponden al presidente',\n",
    "                     'Fuente: Wikipedia',\n",
    "                     'Elaboracion: desarro.io'],\n",
    "        \"subtitleFont\": \"Sanchez\",\n",
    "    },\n",
    "    width = 500,\n",
    "    height = 500\n",
    ")\n",
    "vis"
   ]
  },
  {
   "cell_type": "code",
   "execution_count": 10,
   "metadata": {},
   "outputs": [
    {
     "data": {
      "text/plain": [
       "27"
      ]
     },
     "execution_count": 10,
     "metadata": {},
     "output_type": "execute_result"
    }
   ],
   "source": [
    "len(df)"
   ]
  },
  {
   "cell_type": "code",
   "execution_count": 11,
   "metadata": {},
   "outputs": [
    {
     "data": {
      "text/plain": [
       "9.364102564102565"
      ]
     },
     "execution_count": 11,
     "metadata": {},
     "output_type": "execute_result"
    }
   ],
   "source": [
    "df['Meses en el cargo'].iloc[1:].mean()"
   ]
  },
  {
   "cell_type": "code",
   "execution_count": 12,
   "metadata": {},
   "outputs": [
    {
     "name": "stderr",
     "output_type": "stream",
     "text": [
      "C:\\ProgramData\\Anaconda3\\lib\\site-packages\\ipykernel_launcher.py:1: UserWarning: Boolean Series key will be reindexed to match DataFrame index.\n",
      "  \"\"\"Entry point for launching an IPython kernel.\n"
     ]
    },
    {
     "data": {
      "text/plain": [
       "9.993650793650792"
      ]
     },
     "execution_count": 12,
     "metadata": {},
     "output_type": "execute_result"
    }
   ],
   "source": [
    "df.iloc[1:][df['Sexo']=='M']['Meses en el cargo'].mean()"
   ]
  },
  {
   "cell_type": "code",
   "execution_count": 13,
   "metadata": {},
   "outputs": [
    {
     "name": "stderr",
     "output_type": "stream",
     "text": [
      "C:\\ProgramData\\Anaconda3\\lib\\site-packages\\ipykernel_launcher.py:1: UserWarning: Boolean Series key will be reindexed to match DataFrame index.\n",
      "  \"\"\"Entry point for launching an IPython kernel.\n"
     ]
    },
    {
     "data": {
      "text/plain": [
       "6.720000000000001"
      ]
     },
     "execution_count": 13,
     "metadata": {},
     "output_type": "execute_result"
    }
   ],
   "source": [
    "df.iloc[1:][df['Sexo']=='F']['Meses en el cargo'].mean()"
   ]
  },
  {
   "cell_type": "code",
   "execution_count": 14,
   "metadata": {},
   "outputs": [
    {
     "name": "stderr",
     "output_type": "stream",
     "text": [
      "C:\\ProgramData\\Anaconda3\\lib\\site-packages\\ipykernel_launcher.py:1: UserWarning: Boolean Series key will be reindexed to match DataFrame index.\n",
      "  \"\"\"Entry point for launching an IPython kernel.\n"
     ]
    },
    {
     "data": {
      "text/plain": [
       "9.776470588235293"
      ]
     },
     "execution_count": 14,
     "metadata": {},
     "output_type": "execute_result"
    }
   ],
   "source": [
    "df.iloc[1:][df['Nacida/o en Lima?']=='En Lima']['Meses en el cargo'].mean()"
   ]
  },
  {
   "cell_type": "code",
   "execution_count": 15,
   "metadata": {},
   "outputs": [
    {
     "name": "stderr",
     "output_type": "stream",
     "text": [
      "C:\\ProgramData\\Anaconda3\\lib\\site-packages\\ipykernel_launcher.py:1: UserWarning: Boolean Series key will be reindexed to match DataFrame index.\n",
      "  \"\"\"Entry point for launching an IPython kernel.\n"
     ]
    },
    {
     "data": {
      "text/plain": [
       "8.585185185185187"
      ]
     },
     "execution_count": 15,
     "metadata": {},
     "output_type": "execute_result"
    }
   ],
   "source": [
    "df.iloc[1:][df['Nacida/o en Lima?']=='Fuera de Lima']['Meses en el cargo'].mean()"
   ]
  },
  {
   "cell_type": "code",
   "execution_count": 16,
   "metadata": {},
   "outputs": [
    {
     "data": {
      "text/plain": [
       "16"
      ]
     },
     "execution_count": 16,
     "metadata": {},
     "output_type": "execute_result"
    }
   ],
   "source": [
    "len(df[df['Departamento']=='Lima']['Nombre'].unique())"
   ]
  },
  {
   "cell_type": "code",
   "execution_count": 17,
   "metadata": {},
   "outputs": [
    {
     "data": {
      "text/plain": [
       "3"
      ]
     },
     "execution_count": 17,
     "metadata": {},
     "output_type": "execute_result"
    }
   ],
   "source": [
    "len(df[df['Departamento']=='Tacna'])"
   ]
  },
  {
   "cell_type": "code",
   "execution_count": 18,
   "metadata": {},
   "outputs": [
    {
     "data": {
      "text/plain": [
       "54.2"
      ]
     },
     "execution_count": 18,
     "metadata": {},
     "output_type": "execute_result"
    }
   ],
   "source": [
    "df[df['Sexo']=='F']['Edad al juramentar'].mean()"
   ]
  },
  {
   "cell_type": "code",
   "execution_count": 19,
   "metadata": {},
   "outputs": [
    {
     "data": {
      "text/plain": [
       "57.40909090909091"
      ]
     },
     "execution_count": 19,
     "metadata": {},
     "output_type": "execute_result"
    }
   ],
   "source": [
    "df[df['Sexo']=='M']['Edad al juramentar'].mean()"
   ]
  },
  {
   "cell_type": "code",
   "execution_count": 20,
   "metadata": {},
   "outputs": [
    {
     "data": {
      "text/plain": [
       "57.294117647058826"
      ]
     },
     "execution_count": 20,
     "metadata": {},
     "output_type": "execute_result"
    }
   ],
   "source": [
    "df.iloc[:17]['Edad al juramentar'].mean()"
   ]
  },
  {
   "cell_type": "code",
   "execution_count": 21,
   "metadata": {},
   "outputs": [
    {
     "data": {
      "text/plain": [
       "56.0"
      ]
     },
     "execution_count": 21,
     "metadata": {},
     "output_type": "execute_result"
    }
   ],
   "source": [
    "df.iloc[17:]['Edad al juramentar'].mean()"
   ]
  },
  {
   "cell_type": "code",
   "execution_count": 22,
   "metadata": {},
   "outputs": [
    {
     "data": {
      "text/plain": [
       "22"
      ]
     },
     "execution_count": 22,
     "metadata": {},
     "output_type": "execute_result"
    }
   ],
   "source": [
    "len(df[(df['Sexo']=='M')])"
   ]
  },
  {
   "cell_type": "code",
   "execution_count": 23,
   "metadata": {},
   "outputs": [
    {
     "data": {
      "text/plain": [
       "9"
      ]
     },
     "execution_count": 23,
     "metadata": {},
     "output_type": "execute_result"
    }
   ],
   "source": [
    "len(df[(df['Sexo']=='M') & (df['Nacida/o en Lima?']=='Fuera de Lima')])"
   ]
  },
  {
   "cell_type": "code",
   "execution_count": 24,
   "metadata": {},
   "outputs": [
    {
     "data": {
      "text/plain": [
       "5"
      ]
     },
     "execution_count": 24,
     "metadata": {},
     "output_type": "execute_result"
    }
   ],
   "source": [
    "len(df[(df['Sexo']=='F')])"
   ]
  },
  {
   "cell_type": "code",
   "execution_count": 25,
   "metadata": {},
   "outputs": [
    {
     "data": {
      "text/plain": [
       "1"
      ]
     },
     "execution_count": 25,
     "metadata": {},
     "output_type": "execute_result"
    }
   ],
   "source": [
    "len(df[(df['Sexo']=='F') & (df['Nacida/o en Lima?']=='Fuera de Lima')])"
   ]
  },
  {
   "cell_type": "markdown",
   "metadata": {},
   "source": [
    "# Highlights\n",
    "\n",
    "- De no haber sido otorgada la confianza, Bellido no hubiera sido el primer ministro con menor tiempo en el cargo de los ultimos 20 anhos. Pedro Cateriano estuvo en el cargo menos de un mes al igual que Antero Flores-Araoz\n",
    "\n",
    "## Grafico 1\n",
    "\n",
    "- Desde 2001, todos los presidentes han designado una primera ministra, excepto Martin Vizcarra y Pedro Castillo hasta ahora (...y Manuel Merino)\n",
    "- En los ultimos 20 anhos, las primeras ministras han tenido un tiempo promedio en el cargo de 7 meses frente a los 10 meses en promedio de los hombres\n",
    "\n",
    "\n",
    "## Grafico 2\n",
    "\n",
    "- Luego de Lima con 16, el departamento donde nacieron la mayor cantidad de presidentes del consejo de ministros es Tacna con 3. Oscar Valdes, Fernando Zavala y Vicente Zeballos son de ese dpto\n",
    "- Del 2001 al 2011, solo un premier de 10 nacio fuera de Lima (Javier Velasquez Quesquen, de Lambayeque). Del 2011 al 2021 el ratio fue 8 de 15\n",
    "\n",
    "## Ademas\n",
    "- Guido Bellido es el premier de menor edad al juramentar (41) en, por lo menos, los ultimos 20 anhos. Antes de el, los mas jovenes al juramentar habian sido Fernando Zavala (45) y Ana Jara (46)\n",
    "- De las cinco premier mujeres en los ultimos 20 anhos, solo 1 de 5 nacio fuera de Lima (Ana Jara, en Ica). De los hombres, 9 de 22 son de fuera de Lima"
   ]
  }
 ],
 "metadata": {
  "kernelspec": {
   "display_name": "Python 3",
   "language": "python",
   "name": "python3"
  },
  "language_info": {
   "codemirror_mode": {
    "name": "ipython",
    "version": 3
   },
   "file_extension": ".py",
   "mimetype": "text/x-python",
   "name": "python",
   "nbconvert_exporter": "python",
   "pygments_lexer": "ipython3",
   "version": "3.7.6"
  }
 },
 "nbformat": 4,
 "nbformat_minor": 4
}
